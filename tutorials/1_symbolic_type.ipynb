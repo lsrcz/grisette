{
 "cells": [
  {
   "cell_type": "code",
   "execution_count": 1,
   "id": "383263d1-2b28-47a0-8fb9-00b6e00c0de1",
   "metadata": {},
   "outputs": [],
   "source": [
    "import Grisette"
   ]
  },
  {
   "cell_type": "markdown",
   "id": "24b251c7-74e8-421f-aa91-be7e5dcceddc",
   "metadata": {},
   "source": [
    "# Solver-Aided Programming with Grisette"
   ]
  },
  {
   "cell_type": "markdown",
   "id": "b1a13def-5945-4ab7-bd33-9609dd5a39ae",
   "metadata": {},
   "source": [
    "## Introduction\n",
    "\n",
    "Grisette is a powerful, battery-included, Haskell library that enables solver-aided programming.\n",
    "It allows you to build program reasoning tools with off-the-shelf constraint solvers by introducing symbolic values and performing symbolic execution.\n",
    "\n",
    "In this tutorial, you will learn about\n",
    "\n",
    "- how to use symbolic types in Grisette, and\n",
    "- how to call a solver to reason about symbolic values, and\n",
    "- how to construct a small verifier in Grisette.\n",
    "\n",
    "We will also provide a small exercise on building a sudoku solver with Grisette.\n",
    "\n",
    "Please make sure that you have `z3` (https://github.com/Z3Prover/z3) installed and accessible in `$PATH`.\n",
    "\n",
    "Note that some inline `code blocks` have links to the documentation. It's possible that they are not rendered in a visible way as a link in jupyter notebooks."
   ]
  },
  {
   "cell_type": "markdown",
   "id": "41d6af98-75d7-4951-8fe9-19bd73c73ce4",
   "metadata": {},
   "source": [
    "## Symbolic Types\n",
    "\n",
    "Let's start with a simple Haskell code snippet that processes two input `a` and `b`, and returns `a + a + b`."
   ]
  },
  {
   "cell_type": "code",
   "execution_count": 2,
   "id": "d81379e0-b64c-4eca-a2fc-b4abf248452b",
   "metadata": {},
   "outputs": [],
   "source": [
    "conFun :: Integer -> Integer -> Integer\n",
    "conFun a b = a + a + b"
   ]
  },
  {
   "cell_type": "markdown",
   "id": "7c904f5e-c927-40fb-b714-09ce4e8970f2",
   "metadata": {},
   "source": [
    "When applied to concrete values like 10 and 20, `conFun` will return the concrete result."
   ]
  },
  {
   "cell_type": "code",
   "execution_count": 3,
   "id": "de4cca80-6a5e-4088-b2d8-b73ee985c1e1",
   "metadata": {},
   "outputs": [
    {
     "data": {
      "text/plain": [
       "40"
      ]
     },
     "metadata": {},
     "output_type": "display_data"
    }
   ],
   "source": [
    "conFun 10 20"
   ]
  },
  {
   "cell_type": "markdown",
   "id": "41d7eafe-0e12-4f26-a25c-6bfd5bbdaf9f",
   "metadata": {},
   "source": [
    "Grisette extends the programming model with symbolic types. In the following code, the [`SymInteger`](https://hackage.haskell.org/package/grisette/docs/Grisette-SymPrim.html#t:SymInteger) represents a symbolic integer, which can be a ***symbolic term*** over ***symbolic constants***.\n",
    "A ***symbolic constant*** is a placeholder for a constant value and can be created using its name with the [`OverloadedStrings`](https://ghc.gitlab.haskell.org/ghc/doc/users_guide/exts/overloaded_strings.html) extension.\n",
    "\n",
    "Here is an example of the symbolic function that constructs a symbolic term."
   ]
  },
  {
   "cell_type": "code",
   "execution_count": 4,
   "id": "276d0e65-503d-4f46-9f11-53468dc1c13b",
   "metadata": {},
   "outputs": [],
   "source": [
    "symFun :: SymInteger -> SymInteger -> SymInteger\n",
    "symFun a b = a + a + b"
   ]
  },
  {
   "cell_type": "markdown",
   "id": "ace10173-7844-4a40-85c2-85f5c1cdd3e7",
   "metadata": {},
   "source": [
    "When applied to symbolic values, `symFun` will return a symbolic result. The result of `symFun \"a\" \"b\"` is the symbolic term `(+ (+ a a) b)`. Note that the symbolic constants with the same name are the same symbolic constant."
   ]
  },
  {
   "cell_type": "code",
   "execution_count": 5,
   "id": "d552c0f9-cde8-4fc4-8510-e0a9f491b06f",
   "metadata": {},
   "outputs": [
    {
     "data": {
      "text/plain": [
       "(+ (+ a a) b)"
      ]
     },
     "metadata": {},
     "output_type": "display_data"
    }
   ],
   "source": [
    "{-# LANGUAGE OverloadedStrings #-}\n",
    "symFun \"a\" \"b\""
   ]
  },
  {
   "cell_type": "markdown",
   "id": "21ac0328-1356-4dc1-8bcc-a37038924103",
   "metadata": {},
   "source": [
    "Being symbolic does not mean that the type can only hold symbolic constants or terms over symbolic constants.\n",
    "Concrete values can also be expressed with symbolic types, and Grisette will try to reduce the term when applying symbolic functions to concrete values (with symbolic types)."
   ]
  },
  {
   "cell_type": "code",
   "execution_count": 6,
   "id": "8858b443-d802-446d-9f3c-357a1e1b63ce",
   "metadata": {},
   "outputs": [
    {
     "data": {
      "text/plain": [
       "(+ 2 b)"
      ]
     },
     "metadata": {},
     "output_type": "display_data"
    }
   ],
   "source": [
    "symFun 1 \"b\""
   ]
  },
  {
   "cell_type": "markdown",
   "id": "7bcd4b94-5773-4546-b518-80c3da3fd091",
   "metadata": {},
   "source": [
    "Grisette currently provides support for primitive symbolic types for the following types.\n",
    "You can checkout the documentation for details.\n",
    "\n",
    "- Booleans ([`SymBool`](https://hackage.haskell.org/package/grisette/docs/Grisette-SymPrim.html#t:SymBool)).\n",
    "- Integers ([`SymInteger`](https://hackage.haskell.org/package/grisette/docs/Grisette-SymPrim.html#t:SymInteger)).\n",
    "- Symbolic signed ([`SymIntN`](https://hackage.haskell.org/package/grisette/docs/Grisette-SymPrim.html#t:SymIntN)) and unsigned ([`SymWordN`](https://hackage.haskell.org/package/grisette/docs/Grisette-SymPrim.html#t:SymIntN)) bit-vectors.\n",
    "- Arbitrary precision IEEE-754 floating point numbers ([`SymFP`](https://hackage.haskell.org/package/grisette/docs/Grisette-SymPrim.html#t:SymFP)).\n",
    "- Uninterpreted functions ([`=~>`](https://hackage.haskell.org/package/grisette/docs/Grisette-SymPrim.html#t:-61--126--62-), [`-~>`](https://hackage.haskell.org/package/grisette/docs/Grisette-SymPrim.html#t:-45--126--62-))."
   ]
  },
  {
   "cell_type": "markdown",
   "id": "ec169023-de8d-47dd-94bf-d5b0a711b4aa",
   "metadata": {},
   "source": [
    "## Solver-Aided Reasoning\n",
    "\n",
    "The power of symbolic values lies in their ability to be translated to off-the-shelf solvers for reasoning about programs.\n",
    "Let's consider the following question:\n",
    "\n",
    "- For what input `a` is the result of `symFun a 20` equal to 40?\n",
    "\n",
    "To answer this, we construct a symbolic boolean term asserting that `symFun a 20` is equal to 40."
   ]
  },
  {
   "cell_type": "code",
   "execution_count": 7,
   "id": "2d801dfc-5558-465c-aef3-8aa5a5fdb5d5",
   "metadata": {},
   "outputs": [
    {
     "data": {
      "text/plain": [
       "(= (+ a a) 20)"
      ]
     },
     "metadata": {},
     "output_type": "display_data"
    },
    {
     "data": {
      "text/plain": [
       "Model {a -> 10 :: Integer}"
      ]
     },
     "metadata": {},
     "output_type": "display_data"
    }
   ],
   "source": [
    "a :: SymInteger\n",
    "a = \"a\"\n",
    "print $ symFun a 20 .== 40\n",
    "Right model <- solve z3 $ symFun a 20 .== 40\n",
    "print model"
   ]
  },
  {
   "cell_type": "markdown",
   "id": "d74f877e-3763-4c7e-af02-ba9681322f0d",
   "metadata": {},
   "source": [
    "Note that we use [`.==`](https://hackage.haskell.org/package/grisette/docs/Grisette-Core.html#v:.-61--61-) (symbolic equality) instead of [`==`](https://hackage.haskell.org/package/base/docs/Prelude.html#v:-61--61-) to construct the symbolic term.\n",
    "Grisette provides many symbolic operators like this. They are usually named with the prefix `.` (for operators) or `sym` (for functions).\n",
    "\n",
    "The [`solve`](https://hackage.haskell.org/package/grisette/docs/Grisette-Core.html#v:solve) function sends the term to the solver (in this case, the Z3 solver).\n",
    "The solver treats all the symbolic constants in the boolean term as existentially quantified and tries to find assignments for them.\n",
    "It will then return either a [***model***](https://hackage.haskell.org/package/grisette/docs/Grisette-SymPrim.html#t:model) or a failure.\n",
    "Here, a ***model*** is a mapping from symbolic constants to concrete constants.\n",
    "If we substitute the symbolic constants in the boolean term being solved, the term will evaluate to true.\n",
    "\n",
    "We can then use the model to evaluate a symbolic term and perform the substitution, with [`evalSymToCon`](https://hackage.haskell.org/package/grisette/docs/Grisette-Core.html#v:evalSymToCon)."
   ]
  },
  {
   "cell_type": "code",
   "execution_count": 8,
   "id": "1e9d529d-cf3f-479b-91b4-2cf62384dc57",
   "metadata": {},
   "outputs": [
    {
     "data": {
      "text/plain": [
       "10"
      ]
     },
     "metadata": {},
     "output_type": "display_data"
    },
    {
     "data": {
      "text/plain": [
       "40"
      ]
     },
     "metadata": {},
     "output_type": "display_data"
    },
    {
     "data": {
      "text/plain": [
       "True"
      ]
     },
     "metadata": {},
     "output_type": "display_data"
    }
   ],
   "source": [
    "print (evalSymToCon model a :: Integer)\n",
    "print (evalSymToCon model (symFun a 20) :: Integer)\n",
    "print (evalSymToCon model (symFun a 20 .== 40) :: Bool)"
   ]
  },
  {
   "cell_type": "markdown",
   "id": "625dad99-1ca5-4279-a2aa-846dec867ab1",
   "metadata": {},
   "source": [
    "Sometimes, the solver may not find a model or may conclude that no such model exists. For example, if we ask the solver whether there exists an integer `a` such that `symFun a 20` is equal to 39, the solver will conclude that the constraint cannot be satisfied:"
   ]
  },
  {
   "cell_type": "code",
   "execution_count": 9,
   "id": "29b4aa72-bf94-4980-a128-9b8b579a62e8",
   "metadata": {},
   "outputs": [
    {
     "data": {
      "text/plain": [
       "Left Unsat"
      ]
     },
     "metadata": {},
     "output_type": "display_data"
    }
   ],
   "source": [
    "r <- solve z3 $ symFun a 20 .== 39\n",
    "print r"
   ]
  },
  {
   "cell_type": "markdown",
   "id": "83db53c8-fa94-47e5-a1a4-bb6ef79cce6a",
   "metadata": {},
   "source": [
    "The result, in this case, would be `Left Unsat`, indicating that the constraint is unsatisfiable."
   ]
  },
  {
   "cell_type": "markdown",
   "id": "6950e27f-ca6a-46fd-bd5b-88d41bd2901b",
   "metadata": {},
   "source": [
    "## A Small Expression Equivalence Verifier\n",
    "\n",
    "Now that we have a basic understanding of Grisette's symbolic types and solver-aided reasoning, let's dive into building a practical application: an expression equivalence verifier. This tool can be particularly useful when developing an optimizing compiler that performs term rewrites. By verifying the equivalence of expressions before and after the rewrite, you can ensure the correctness of your optimization rules.\n",
    "\n",
    "We'll start by defining a small language for our expressions:\n",
    "\n",
    "```\n",
    "E -> I int\n",
    "   | B bool\n",
    "   | Add E E\n",
    "   | Mul E E\n",
    "   | Eq E E\n",
    "```\n",
    "\n",
    "Using GADTs (Generalized Algebraic Data Types), we can define well-typed instances of our expression language as follows:\n",
    "\n",
    "(If you aren't familiar with GADTs, you may refer to https://en.wikibooks.org/wiki/Haskell/GADT. Our example is also adapted from the expression language defined there.)"
   ]
  },
  {
   "cell_type": "code",
   "execution_count": 10,
   "id": "59355990-cc9c-4daa-82a5-6d5457ef4aa0",
   "metadata": {},
   "outputs": [],
   "source": [
    "{-# LANGUAGE GADTs #-}\n",
    "data Expr a where\n",
    "  I :: SymInteger -> Expr SymInteger\n",
    "  B :: SymBool -> Expr SymBool\n",
    "  Add :: Expr SymInteger -> Expr SymInteger -> Expr SymInteger\n",
    "  Mul :: Expr SymInteger -> Expr SymInteger -> Expr SymInteger\n",
    "  Eq :: SymEq a => Expr a -> Expr a -> Expr SymBool"
   ]
  },
  {
   "cell_type": "markdown",
   "id": "d6d8bd29-ffcb-4e99-9635-30b34ef78e0c",
   "metadata": {},
   "source": [
    "Note the [`SymEq`](https://hackage.haskell.org/package/grisette/docs/Grisette-Core.html#t:SymEq) constraint in the `Eq` constructor. This is a type class provided by Grisette that enables the use of [`.==`](https://hackage.haskell.org/package/grisette/docs/Grisette-Core.html#v:.-61--61-) or [`./=`](https://hackage.haskell.org/package/grisette/docs/Grisette-Core.html#v:.-47--61-) operators for symbolic equality and inequality comparisons.\n",
    "\n",
    "Next, let's define an evaluation function for our expression language:"
   ]
  },
  {
   "cell_type": "code",
   "execution_count": 11,
   "id": "60e5d293-9063-4ae9-bc34-0fce0a082a90",
   "metadata": {},
   "outputs": [],
   "source": [
    "eval :: Expr a -> a\n",
    "eval (I n) = n\n",
    "eval (B b) = b\n",
    "eval (Add e1 e2) = eval e1 + eval e2\n",
    "eval (Mul e1 e2) = eval e1 * eval e2\n",
    "eval (Eq e1 e2) = eval e1 .== eval e2"
   ]
  },
  {
   "cell_type": "markdown",
   "id": "cd6d81b0-01e5-4237-99a5-cc11c4bc1272",
   "metadata": {},
   "source": [
    "With our language and evaluation function in place, we can now build the equivalence verifier. To prove that two expressions are equivalent, we need to show that the following property $p_1$ holds. Here, $\\mathrm{consts}(e)$ is the set of all symbolic constants in the expression $e$.\n",
    "\n",
    "$p_1=\\forall~\\mathrm{constant}\\in \\mathrm{consts}(e_1), \\mathrm{consts}(e_2). \\mathrm{eval}(e_1) = \\mathrm{eval}(e_2)$\n",
    "\n",
    "However, solvers typically struggle with efficiently handling universally quantified formulas. To circumvent this, we can transform $p_1$ into an existentially quantified formula $p_2$, such that $p_2$ is unsatisfiable implies that $p_1$ is a tautology:\n",
    "\n",
    "$p_2=\\exists~\\mathrm{constant}\\in \\mathrm{consts}(e_1), \\mathrm{consts}(e_2). \\mathrm{eval}(e_1) \\neq\\mathrm{eval}(e_2)$\n",
    "\n",
    "Here's the implementation of the equivalence verifier."
   ]
  },
  {
   "cell_type": "code",
   "execution_count": 12,
   "id": "fe897e24-7168-431c-9657-be4068983617",
   "metadata": {},
   "outputs": [],
   "source": [
    "verifyEquivalent :: (EvalSym a, SymEq a, Show a) => Expr a -> Expr a -> IO ()\n",
    "verifyEquivalent e1 e2 = do\n",
    "  res <- solve z3 $ eval e1 ./= eval e2\n",
    "  case res of\n",
    "    Left Unsat -> putStrLn \"The two expressions are equivalent\"\n",
    "    Left err -> putStrLn $ \"The solver returned unexpected response: \" <> show err\n",
    "    Right model -> do\n",
    "      putStrLn \"The two expressions are not equivalent, under the model:\"\n",
    "      print model\n",
    "      putStrLn $ \"lhs evaluates to: \" <> show (evalSym False model $ eval e1)\n",
    "      putStrLn $ \"rhs evaluates to: \" <> show (evalSym False model $ eval e2)"
   ]
  },
  {
   "cell_type": "markdown",
   "id": "4bc66d6c-a245-4d7e-a81e-f634d6caa321",
   "metadata": {},
   "source": [
    "The [`EvalSym`](https://hackage.haskell.org/package/grisette/docs/Grisette-Core.html#t:EvalSym) type class used here is another Grisette type class that enables the substitution of symbolic constants with concrete values from a model. [`evalSym`](https://hackage.haskell.org/package/grisette/docs/Grisette-Core.html#v:evalSym)`False` substitutes only the symbolic constants present in the model, while [`evalSym`](https://hackage.haskell.org/package/grisette/docs/Grisette-Core.html#v:evalSym)`True` assigns default concrete values to any unmentioned constants.\n",
    "\n",
    "Let's put our verifier to the test! First, we'll prove the distributive property of multiplication over addition:"
   ]
  },
  {
   "cell_type": "code",
   "execution_count": 13,
   "id": "5eafb546-8a1c-44de-a16f-1121c94998d9",
   "metadata": {},
   "outputs": [
    {
     "data": {
      "text/plain": [
       "The two expressions are equivalent"
      ]
     },
     "metadata": {},
     "output_type": "display_data"
    }
   ],
   "source": [
    "verifyEquivalent\n",
    "  (Mul (I \"a\") (Add (I \"b\") (I \"c\")))\n",
    "  (Add (Mul (I \"a\") (I \"b\")) (Mul (I \"a\") (I \"c\")))"
   ]
  },
  {
   "cell_type": "markdown",
   "id": "1d4061fa-0453-494e-a982-c27d423d63cc",
   "metadata": {},
   "source": [
    "Next, we'll attempt to prove an incorrect equivalence:"
   ]
  },
  {
   "cell_type": "code",
   "execution_count": 14,
   "id": "ed688779-a8b5-419f-ad5b-b044d12eebc6",
   "metadata": {},
   "outputs": [
    {
     "data": {
      "text/plain": [
       "The two expressions are not equivalent, under the model:\n",
       "Model {a -> -3 :: Integer, b -> 2 :: Integer, c -> 7 :: Integer}\n",
       "lhs evaluates to: 11\n",
       "rhs evaluates to: -4"
      ]
     },
     "metadata": {},
     "output_type": "display_data"
    }
   ],
   "source": [
    "verifyEquivalent\n",
    "  (Add (I \"a\") (Mul (I \"b\") (I \"c\")))\n",
    "  (Mul (Add (I \"a\") (I \"b\")) (Add (I \"a\") (I \"c\")))"
   ]
  },
  {
   "cell_type": "markdown",
   "id": "24e4e36a-9c7a-4e99-a6b9-987e12bae07d",
   "metadata": {},
   "source": [
    "As expected, the solver will provide a counterexample model demonstrating that the expressions are not equivalent.\n",
    "\n",
    "Finally, let's verify a simple boolean equivalence ([con](https://hackage.haskell.org/package/grisette/docs/Grisette-Core.html#v:con) converts a concrete boolean value to a symbolic boolean term, or you can use [true](https://hackage.haskell.org/package/grisette/docs/Grisette-Core.html#v:true) to create concrete or symbolic true terms):"
   ]
  },
  {
   "cell_type": "code",
   "execution_count": 15,
   "id": "78ef7b21-8ba0-425b-9600-b221e8c692e1",
   "metadata": {},
   "outputs": [
    {
     "data": {
      "text/plain": [
       "The two expressions are equivalent"
      ]
     },
     "metadata": {},
     "output_type": "display_data"
    },
    {
     "data": {
      "text/plain": [
       "The two expressions are equivalent"
      ]
     },
     "metadata": {},
     "output_type": "display_data"
    }
   ],
   "source": [
    "verifyEquivalent (Eq (I \"a\") (I \"a\")) (B $ con True)\n",
    "verifyEquivalent (Eq (I \"a\") (I \"a\")) (B true)"
   ]
  },
  {
   "cell_type": "markdown",
   "id": "0126e0ce-c445-45f2-a3b8-9738199a7bf2",
   "metadata": {},
   "source": [
    "## Exercise: sudoku solver\n",
    "\n",
    "Now let's do some exercise. We will build a sudoku solver with Grisette.\n",
    "\n",
    "From [wikipedia](https://en.wikipedia.org/wiki/Sudoku), a sudoku is a number-placement puzzle.\n",
    "Its objective is to fill a 9 x 9 grid with digits so that each column, each row, and each of the nine 3 x 3 regions that compose the grid contains all the digits from 1 to 9.\n",
    "\n",
    "The following shows a typical sudoku puzzle:\n",
    "\n",
    "<img src=\"./_img/sudoku.svg\" alt=\"drawing\" style=\"width:200px; margin-left: auto; margin-right: auto\">\n",
    "\n",
    "And the solution to it is:\n",
    "\n",
    "<img src=\"./_img/sudoku_solution.svg\" alt=\"drawing\" style=\"width:200px; margin-left: auto; margin-right: auto\">\n",
    "\n",
    "Your task is to implement a symbolic sudoku checker and use the z3 solver to turn the checker into a sudoku solver.\n",
    "You can search for TODOs for some tasks for you, and we will provide answers to them at the end of this tutorial."
   ]
  },
  {
   "cell_type": "markdown",
   "id": "b36fef45-efdd-4077-8772-3fda64b57fbb",
   "metadata": {},
   "source": [
    "### Concrete sudoku ***checker***\n",
    "\n",
    "We first provide the concrete sudoku ***checker*** as a reference. It can check whether a sudoku board is valid, but cannot solve sudoku puzzles.\n",
    "\n",
    "A sudoku board can be modeled as a nested list, as shown below."
   ]
  },
  {
   "cell_type": "code",
   "execution_count": 16,
   "id": "b780cba1-b045-4578-a2b5-e0669051b2ee",
   "metadata": {},
   "outputs": [],
   "source": [
    "type Row = [Integer]\n",
    "type Board = [Row]"
   ]
  },
  {
   "cell_type": "markdown",
   "id": "79f05889-4999-4348-9536-38491b02ee02",
   "metadata": {},
   "source": [
    "The following then shows some sudoku boards. The first one is valid.\n",
    "The second one is invalid because it contains 10, which isn't a valid number.\n",
    "The third one is also invalid because the first column contains two 6s, which violates the rules of sudoku."
   ]
  },
  {
   "cell_type": "code",
   "execution_count": 17,
   "id": "fa633d98-f8d4-421f-b50a-9acfe7f9f10c",
   "metadata": {},
   "outputs": [],
   "source": [
    "board :: Board\n",
    "board =\n",
    "  [ [7, 3, 4, 1, 6, 2, 9, 8, 5],\n",
    "    [6, 8, 5, 4, 7, 9, 3, 2, 1],\n",
    "    [2, 1, 9, 5, 3, 8, 6, 4, 7],\n",
    "    [5, 6, 8, 9, 1, 3, 2, 7, 4],\n",
    "    [3, 4, 2, 6, 8, 7, 1, 5, 9],\n",
    "    [1, 9, 7, 2, 5, 4, 8, 3, 6],\n",
    "    [8, 5, 1, 7, 2, 6, 4, 9, 3],\n",
    "    [9, 2, 6, 3, 4, 5, 7, 1, 8],\n",
    "    [4, 7, 3, 8, 9, 1, 5, 6, 2]\n",
    "  ]\n",
    "\n",
    "boardOutOfBounds :: Board\n",
    "boardOutOfBounds =\n",
    "  [ [10, 3, 4, 1, 6, 2, 9, 8, 5],\n",
    "    [6, 8, 5, 4, 7, 9, 3, 2, 1],\n",
    "    [2, 1, 9, 5, 3, 8, 6, 4, 7],\n",
    "    [5, 6, 8, 9, 1, 3, 2, 7, 4],\n",
    "    [3, 4, 2, 6, 8, 7, 1, 5, 9],\n",
    "    [1, 9, 7, 2, 5, 4, 8, 3, 6],\n",
    "    [8, 5, 1, 7, 2, 6, 4, 9, 3],\n",
    "    [9, 2, 6, 3, 4, 5, 7, 1, 8],\n",
    "    [4, 7, 3, 8, 9, 1, 5, 6, 2]\n",
    "  ]\n",
    "\n",
    "boardOverlapping :: Board\n",
    "boardOverlapping =\n",
    "  [ [6, 3, 4, 1, 6, 2, 9, 8, 5],\n",
    "    [6, 8, 5, 4, 7, 9, 3, 2, 1],\n",
    "    [2, 1, 9, 5, 3, 8, 6, 4, 7],\n",
    "    [5, 6, 8, 9, 1, 3, 2, 7, 4],\n",
    "    [3, 4, 2, 6, 8, 7, 1, 5, 9],\n",
    "    [1, 9, 7, 2, 5, 4, 8, 3, 6],\n",
    "    [8, 5, 1, 7, 2, 6, 4, 9, 3],\n",
    "    [9, 2, 6, 3, 4, 5, 7, 1, 8],\n",
    "    [4, 7, 3, 8, 9, 1, 5, 6, 2]\n",
    "  ]"
   ]
  },
  {
   "cell_type": "markdown",
   "id": "6a725a2b-3d64-48c9-aa2b-a51a67e021eb",
   "metadata": {},
   "source": [
    "We can validate a Sudoku board by ensuring that all rows, columns, and 3x3 regions contain distinct numbers from 1 to 9."
   ]
  },
  {
   "cell_type": "code",
   "execution_count": 18,
   "id": "0d02bd3f-6e17-4055-ae4f-befc5b5cc8b6",
   "metadata": {},
   "outputs": [
    {
     "data": {
      "text/plain": [
       "True"
      ]
     },
     "metadata": {},
     "output_type": "display_data"
    },
    {
     "data": {
      "text/plain": [
       "False"
      ]
     },
     "metadata": {},
     "output_type": "display_data"
    },
    {
     "data": {
      "text/plain": [
       "False"
      ]
     },
     "metadata": {},
     "output_type": "display_data"
    }
   ],
   "source": [
    "import Data.List (transpose)\n",
    "\n",
    "check :: Row -> Bool\n",
    "check xs = distinct xs && inbound xs\n",
    "  where\n",
    "    distinct :: Row -> Bool\n",
    "    distinct [] = True\n",
    "    distinct (x : xs1) = notElem x xs1 && distinct xs1\n",
    "    inbound :: Row -> Bool\n",
    "    inbound = all (\\x -> x >= 1 && x <= 9)\n",
    "\n",
    "columns = transpose\n",
    "regionAt rows x y = [rows !! i !! j | i <- [x .. x + 2], j <- [y .. y + 2]]\n",
    "regions rows = [regionAt rows (i * 3) (j * 3) | i <- [0 .. 2], j <- [0 .. 2]]\n",
    "toCheck rows = rows ++ columns rows ++ regions rows\n",
    "\n",
    "checkBoard :: Board -> Bool\n",
    "checkBoard rows = all check (toCheck rows)\n",
    "\n",
    "print $ checkBoard board\n",
    "print $ checkBoard boardOutOfBounds\n",
    "print $ checkBoard boardOverlapping"
   ]
  },
  {
   "cell_type": "markdown",
   "id": "475d5e9b-2d31-4ab5-a791-afb38091a595",
   "metadata": {},
   "source": [
    "### Symbolic sudoku ***checker***\n",
    "\n",
    "Suppose we want to build a sudoku solver.\n",
    "Without constraint solving, we typically need to implement some sort of searching algorithm to search within the possible solution space.\n",
    "This isn't very hard, but we will show that constraint solvers can make it even simpler by turning a ***symbolic checker*** into a ***puzzle solver***, and we will see that with Grisette, a symbolic checker looks very similar to a concrete checker.\n",
    "\n",
    "First, we define our symbolic board type. We can do this by replacing `Integer` with `SymInteger` in the definition."
   ]
  },
  {
   "cell_type": "code",
   "execution_count": 19,
   "id": "fb746ca8-aead-4b6b-8b34-85c186ca70de",
   "metadata": {},
   "outputs": [],
   "source": [
    "type SymRow = [SymInteger]\n",
    "type SymBoard = [SymRow]"
   ]
  },
  {
   "cell_type": "markdown",
   "id": "f06b18b7-1438-4bf3-a6ea-97c86a4f91d7",
   "metadata": {},
   "source": [
    "You can then implement a symbolic checker, using the concrete checker as a reference.\n",
    "\n",
    "Grisette provides symbolic counterparts for many Haskell library functions.\n",
    "The following functions ([`true`](https://hackage.haskell.org/package/grisette/docs/Grisette-Core.html#v:true), [`symNotElem`](https://hackage.haskell.org/package/grisette/docs/Grisette-Lib-Data-List.html#v:symNotElem), and [`symAll`](https://hackage.haskell.org/package/grisette/docs/Grisette-Lib-Data-Foldable.html#v:symAll)) might be useful in your symbolic checker."
   ]
  },
  {
   "cell_type": "code",
   "execution_count": 20,
   "id": "f1576562-e876-4ef2-a7cb-fc8f3bcb4265",
   "metadata": {},
   "outputs": [
    {
     "data": {
      "text/html": [
       "<style>/* Styles used for the Hoogle display in the pager */\n",
       ".hoogle-doc {\n",
       "display: block;\n",
       "padding-bottom: 1.3em;\n",
       "padding-left: 0.4em;\n",
       "}\n",
       ".hoogle-code {\n",
       "display: block;\n",
       "font-family: monospace;\n",
       "white-space: pre;\n",
       "}\n",
       ".hoogle-text {\n",
       "display: block;\n",
       "}\n",
       ".hoogle-name {\n",
       "color: green;\n",
       "font-weight: bold;\n",
       "}\n",
       ".hoogle-head {\n",
       "font-weight: bold;\n",
       "}\n",
       ".hoogle-sub {\n",
       "display: block;\n",
       "margin-left: 0.4em;\n",
       "}\n",
       ".hoogle-package {\n",
       "font-weight: bold;\n",
       "font-style: italic;\n",
       "}\n",
       ".hoogle-module {\n",
       "font-weight: bold;\n",
       "}\n",
       ".hoogle-class {\n",
       "font-weight: bold;\n",
       "}\n",
       ".get-type {\n",
       "color: green;\n",
       "font-weight: bold;\n",
       "font-family: monospace;\n",
       "display: block;\n",
       "white-space: pre-wrap;\n",
       "}\n",
       ".show-type {\n",
       "color: green;\n",
       "font-weight: bold;\n",
       "font-family: monospace;\n",
       "margin-left: 1em;\n",
       "}\n",
       ".mono {\n",
       "font-family: monospace;\n",
       "display: block;\n",
       "}\n",
       ".err-msg {\n",
       "color: red;\n",
       "font-style: italic;\n",
       "font-family: monospace;\n",
       "white-space: pre;\n",
       "display: block;\n",
       "}\n",
       "#unshowable {\n",
       "color: red;\n",
       "font-weight: bold;\n",
       "}\n",
       ".err-msg.in.collapse {\n",
       "padding-top: 0.7em;\n",
       "}\n",
       ".highlight-code {\n",
       "white-space: pre;\n",
       "font-family: monospace;\n",
       "}\n",
       ".suggestion-warning { \n",
       "font-weight: bold;\n",
       "color: rgb(200, 130, 0);\n",
       "}\n",
       ".suggestion-error { \n",
       "font-weight: bold;\n",
       "color: red;\n",
       "}\n",
       ".suggestion-name {\n",
       "font-weight: bold;\n",
       "}\n",
       "</style><span class='get-type'>true :: forall b. LogicalOp b => b</span>"
      ],
      "text/plain": [
       "true :: forall b. LogicalOp b => b"
      ]
     },
     "metadata": {},
     "output_type": "display_data"
    },
    {
     "data": {
      "text/html": [
       "<style>/* Styles used for the Hoogle display in the pager */\n",
       ".hoogle-doc {\n",
       "display: block;\n",
       "padding-bottom: 1.3em;\n",
       "padding-left: 0.4em;\n",
       "}\n",
       ".hoogle-code {\n",
       "display: block;\n",
       "font-family: monospace;\n",
       "white-space: pre;\n",
       "}\n",
       ".hoogle-text {\n",
       "display: block;\n",
       "}\n",
       ".hoogle-name {\n",
       "color: green;\n",
       "font-weight: bold;\n",
       "}\n",
       ".hoogle-head {\n",
       "font-weight: bold;\n",
       "}\n",
       ".hoogle-sub {\n",
       "display: block;\n",
       "margin-left: 0.4em;\n",
       "}\n",
       ".hoogle-package {\n",
       "font-weight: bold;\n",
       "font-style: italic;\n",
       "}\n",
       ".hoogle-module {\n",
       "font-weight: bold;\n",
       "}\n",
       ".hoogle-class {\n",
       "font-weight: bold;\n",
       "}\n",
       ".get-type {\n",
       "color: green;\n",
       "font-weight: bold;\n",
       "font-family: monospace;\n",
       "display: block;\n",
       "white-space: pre-wrap;\n",
       "}\n",
       ".show-type {\n",
       "color: green;\n",
       "font-weight: bold;\n",
       "font-family: monospace;\n",
       "margin-left: 1em;\n",
       "}\n",
       ".mono {\n",
       "font-family: monospace;\n",
       "display: block;\n",
       "}\n",
       ".err-msg {\n",
       "color: red;\n",
       "font-style: italic;\n",
       "font-family: monospace;\n",
       "white-space: pre;\n",
       "display: block;\n",
       "}\n",
       "#unshowable {\n",
       "color: red;\n",
       "font-weight: bold;\n",
       "}\n",
       ".err-msg.in.collapse {\n",
       "padding-top: 0.7em;\n",
       "}\n",
       ".highlight-code {\n",
       "white-space: pre;\n",
       "font-family: monospace;\n",
       "}\n",
       ".suggestion-warning { \n",
       "font-weight: bold;\n",
       "color: rgb(200, 130, 0);\n",
       "}\n",
       ".suggestion-error { \n",
       "font-weight: bold;\n",
       "color: red;\n",
       "}\n",
       ".suggestion-name {\n",
       "font-weight: bold;\n",
       "}\n",
       "</style><span class='get-type'>symNotElem :: forall (t :: * -> *) a. (Foldable t, SymEq a) => a -> t a -> SymBool</span>"
      ],
      "text/plain": [
       "symNotElem :: forall (t :: * -> *) a. (Foldable t, SymEq a) => a -> t a -> SymBool"
      ]
     },
     "metadata": {},
     "output_type": "display_data"
    },
    {
     "data": {
      "text/html": [
       "<style>/* Styles used for the Hoogle display in the pager */\n",
       ".hoogle-doc {\n",
       "display: block;\n",
       "padding-bottom: 1.3em;\n",
       "padding-left: 0.4em;\n",
       "}\n",
       ".hoogle-code {\n",
       "display: block;\n",
       "font-family: monospace;\n",
       "white-space: pre;\n",
       "}\n",
       ".hoogle-text {\n",
       "display: block;\n",
       "}\n",
       ".hoogle-name {\n",
       "color: green;\n",
       "font-weight: bold;\n",
       "}\n",
       ".hoogle-head {\n",
       "font-weight: bold;\n",
       "}\n",
       ".hoogle-sub {\n",
       "display: block;\n",
       "margin-left: 0.4em;\n",
       "}\n",
       ".hoogle-package {\n",
       "font-weight: bold;\n",
       "font-style: italic;\n",
       "}\n",
       ".hoogle-module {\n",
       "font-weight: bold;\n",
       "}\n",
       ".hoogle-class {\n",
       "font-weight: bold;\n",
       "}\n",
       ".get-type {\n",
       "color: green;\n",
       "font-weight: bold;\n",
       "font-family: monospace;\n",
       "display: block;\n",
       "white-space: pre-wrap;\n",
       "}\n",
       ".show-type {\n",
       "color: green;\n",
       "font-weight: bold;\n",
       "font-family: monospace;\n",
       "margin-left: 1em;\n",
       "}\n",
       ".mono {\n",
       "font-family: monospace;\n",
       "display: block;\n",
       "}\n",
       ".err-msg {\n",
       "color: red;\n",
       "font-style: italic;\n",
       "font-family: monospace;\n",
       "white-space: pre;\n",
       "display: block;\n",
       "}\n",
       "#unshowable {\n",
       "color: red;\n",
       "font-weight: bold;\n",
       "}\n",
       ".err-msg.in.collapse {\n",
       "padding-top: 0.7em;\n",
       "}\n",
       ".highlight-code {\n",
       "white-space: pre;\n",
       "font-family: monospace;\n",
       "}\n",
       ".suggestion-warning { \n",
       "font-weight: bold;\n",
       "color: rgb(200, 130, 0);\n",
       "}\n",
       ".suggestion-error { \n",
       "font-weight: bold;\n",
       "color: red;\n",
       "}\n",
       ".suggestion-name {\n",
       "font-weight: bold;\n",
       "}\n",
       "</style><span class='get-type'>symAll :: forall (t :: * -> *) a. Foldable t => (a -> SymBool) -> t a -> SymBool</span>"
      ],
      "text/plain": [
       "symAll :: forall (t :: * -> *) a. Foldable t => (a -> SymBool) -> t a -> SymBool"
      ]
     },
     "metadata": {},
     "output_type": "display_data"
    }
   ],
   "source": [
    ":t true\n",
    ":t symNotElem\n",
    ":t symAll"
   ]
  },
  {
   "cell_type": "code",
   "execution_count": 21,
   "id": "1fe4226a-3eb7-4998-a0a3-192f47f7ce7a",
   "metadata": {},
   "outputs": [
    {
     "ename": "",
     "evalue": "",
     "output_type": "error",
     "traceback": [
      "<interactive>:2:12: error: [GHC-88464] Data constructor not in scope: TODO :: SymRow -> SymBool"
     ]
    }
   ],
   "source": [
    "symCheck :: SymRow -> SymBool\n",
    "-- TODO: Implement the symCheck function. You can use the check function as a reference\n",
    "symCheck = TODO\n",
    "\n",
    "checkSymBoard :: SymBoard -> SymBool\n",
    "checkSymBoard rows = symAll symCheck (toCheck rows)"
   ]
  },
  {
   "cell_type": "markdown",
   "id": "dd7ac712-2fa4-451c-8945-db9e29698fe4",
   "metadata": {},
   "source": [
    "### Sudoku puzzles\n",
    "\n",
    "The following code generates some symbolic sudoku puzzles.\n",
    "\n",
    "Here, we define a `genSymBoard` function.\n",
    "It generates a symbolic sudoku puzzle by generating distinct symbolic integers for the entries in the grid that aren't 1-9.\n",
    "You can safely ignore the code for now, as we will cover the topics in future tutorials, or you can check out the documentation for [`GenSym`](https://hackage.haskell.org/package/grisette/docs/Grisette-Core.html#t:GenSym) and [`Fresh`](https://hackage.haskell.org/package/grisette/docs/Grisette-Core.html#t:Fresh).\n",
    "\n",
    "Here we also used the pretty printer shipped with Grisette, with the [`PPrint`](https://hackage.haskell.org/package/grisette/docs/Grisette-Core.html#t:PPrint) class. It is based on [`prettyprinter`](https://hackage.haskell.org/package/prettyprinter), and we additionally provided operator precedence handling and generic derivation."
   ]
  },
  {
   "cell_type": "code",
   "execution_count": 22,
   "id": "876f7902-2beb-477b-bf19-d60e56ec422d",
   "metadata": {},
   "outputs": [],
   "source": [
    "genSymBoard :: Identifier -> [[Integer]] -> SymBoard\n",
    "genSymBoard ident  =\n",
    "    flip runFresh ident\n",
    "  . (traverse . traverse) (\\x -> if x > 0 && x <= 9 then return (con x) else simpleFresh ())"
   ]
  },
  {
   "cell_type": "code",
   "execution_count": 23,
   "id": "34d23796-f139-43db-9bf3-339e4237ff0e",
   "metadata": {},
   "outputs": [
    {
     "data": {
      "text/plain": [
       "[ [easy@0, easy@1, easy@2, easy@3, easy@4, easy@5, easy@6, 8, easy@7],\n",
       "  [6, 8, easy@8, 4, 7, easy@9, easy@10, 2, easy@11],\n",
       "  [easy@12, 1, 9, 5, easy@13, 8, 6, 4, 7],\n",
       "  [easy@14, 6, easy@15, 9, easy@16, easy@17, easy@18, easy@19, 4],\n",
       "  [3, 4, 2, 6, 8, easy@20, easy@21, easy@22, easy@23],\n",
       "  [1, 9, easy@24, easy@25, 5, easy@26, 8, 3, easy@27],\n",
       "  [easy@28, easy@29, easy@30, 7, 2, easy@31, 4, easy@32, 3],\n",
       "  [easy@33, easy@34, 6, easy@35, easy@36, 5, easy@37, 1, easy@38],\n",
       "  [easy@39, easy@40, 3, 8, 9, 1, 5, easy@41, easy@42]\n",
       "]"
      ]
     },
     "metadata": {},
     "output_type": "display_data"
    }
   ],
   "source": [
    "easy :: SymBoard\n",
    "easy =\n",
    "  genSymBoard\n",
    "    \"easy\"\n",
    "    [ [0, 0, 0, 0, 0, 0, 0, 8, 0],\n",
    "      [6, 8, 0, 4, 7, 0, 0, 2, 0],\n",
    "      [0, 1, 9, 5, 0, 8, 6, 4, 7],\n",
    "      [0, 6, 0, 9, 0, 0, 0, 0, 4],\n",
    "      [3, 4, 2, 6, 8, 0, 0, 0, 0],\n",
    "      [1, 9, 0, 0, 5, 0, 8, 3, 0],\n",
    "      [0, 0, 0, 7, 2, 0, 4, 0, 3],\n",
    "      [0, 0, 6, 0, 0, 5, 0, 1, 0],\n",
    "      [0, 0, 3, 8, 9, 1, 5, 0, 0]\n",
    "    ]\n",
    "medium :: SymBoard\n",
    "medium =\n",
    "  genSymBoard\n",
    "    \"medium\"\n",
    "    [ [8, 0, 0, 1, 0, 0, 0, 7, 0],\n",
    "      [0, 2, 0, 0, 4, 0, 8, 0, 0],\n",
    "      [0, 6, 0, 7, 0, 0, 0, 0, 0],\n",
    "      [0, 0, 0, 4, 7, 0, 9, 0, 8],\n",
    "      [2, 4, 0, 0, 8, 0, 0, 0, 0],\n",
    "      [0, 3, 8, 0, 0, 0, 0, 0, 5],\n",
    "      [0, 8, 0, 6, 0, 4, 1, 0, 0],\n",
    "      [9, 0, 0, 0, 0, 7, 2, 0, 4],\n",
    "      [0, 0, 5, 8, 1, 0, 0, 0, 6]\n",
    "    ]\n",
    "hard :: SymBoard\n",
    "hard =\n",
    "  genSymBoard\n",
    "    \"hard\"\n",
    "    [ [0, 2, 4, 0, 0, 0, 0, 0, 7],\n",
    "      [0, 6, 7, 0, 0, 0, 3, 0, 2],\n",
    "      [0, 0, 0, 0, 4, 0, 5, 0, 0],\n",
    "      [0, 0, 6, 0, 3, 0, 8, 5, 0],\n",
    "      [4, 0, 5, 0, 8, 0, 0, 2, 0],\n",
    "      [0, 0, 0, 0, 0, 0, 0, 7, 0],\n",
    "      [7, 0, 0, 3, 0, 2, 0, 0, 0],\n",
    "      [0, 1, 0, 0, 0, 0, 0, 0, 0],\n",
    "      [0, 0, 8, 0, 0, 4, 0, 0, 9]\n",
    "    ]\n",
    "expert :: SymBoard\n",
    "expert =\n",
    "  genSymBoard\n",
    "    \"expert\"\n",
    "    [ [0, 7, 0, 0, 0, 0, 8, 0, 0],\n",
    "      [8, 3, 1, 0, 0, 4, 0, 0, 0],\n",
    "      [0, 4, 0, 0, 0, 0, 0, 0, 0],\n",
    "      [0, 5, 7, 0, 6, 0, 0, 2, 0],\n",
    "      [3, 0, 0, 0, 0, 1, 0, 0, 0],\n",
    "      [0, 0, 0, 0, 0, 0, 9, 6, 0],\n",
    "      [4, 0, 0, 0, 2, 0, 0, 0, 0],\n",
    "      [0, 0, 0, 3, 0, 0, 6, 0, 5],\n",
    "      [0, 0, 0, 1, 0, 0, 2, 9, 0]\n",
    "    ]\n",
    "-- pformat, provided by PPrint class, is the derivable pretty printer provided by Grisette.\n",
    "pformat easy"
   ]
  },
  {
   "cell_type": "markdown",
   "id": "340266a2-a1c9-4842-9d4c-3cf7264a786c",
   "metadata": {},
   "source": [
    "### Turning the checker into a solver\n",
    "\n",
    "After you get your symbolic checker, it is intuitive that we can use a constraint solver to solve the sudoku puzzle.\n",
    "The symbolic checker generates a symbolic formula such that it evaluates to true when the missing entries are assigned with valid numbers.\n",
    "Based on this, you can ask the solver to make such assignments."
   ]
  },
  {
   "cell_type": "code",
   "execution_count": 24,
   "id": "520432f6-3b86-4a51-b1cd-a306699b4f01",
   "metadata": {},
   "outputs": [
    {
     "ename": "",
     "evalue": "",
     "output_type": "error",
     "traceback": [
      "<interactive>:3:8: error: [GHC-88464] Data constructor not in scope: TODO :: IO (Either a0 b0)\n<interactive>:7:34: error: [GHC-88464] Data constructor not in scope: TODO :: Board"
     ]
    }
   ],
   "source": [
    "sudoku :: SymBoard -> IO (Maybe Board)\n",
    "sudoku puzzle = do\n",
    "  m <- TODO -- TODO: Call z3 solver to solve the sudoku board\n",
    "  case m of\n",
    "    Left _ -> return Nothing\n",
    "    -- TODO: If the solver finds a solution, use it to evaluate the board and return\n",
    "    Right model -> return $ Just TODO"
   ]
  },
  {
   "cell_type": "markdown",
   "id": "21bf383f",
   "metadata": {},
   "source": [
    "The following code calls the sudoku solver."
   ]
  },
  {
   "cell_type": "code",
   "execution_count": 25,
   "id": "f24328f1-ab6e-4874-b68c-f698a0df2fe4",
   "metadata": {},
   "outputs": [
    {
     "ename": "",
     "evalue": "",
     "output_type": "error",
     "traceback": [
      "<interactive>:1:1: error: [GHC-88464] Variable not in scope: sudoku :: SymBoard -> IO a0"
     ]
    }
   ],
   "source": [
    "sudoku easy >>= pprint\n",
    "sudoku medium >>= pprint\n",
    "sudoku hard >>= pprint\n",
    "sudoku expert >>= pprint"
   ]
  },
  {
   "cell_type": "markdown",
   "id": "99358075-d4bb-4d42-9fd2-9a75bae5ab2c",
   "metadata": {},
   "source": [
    "### Answer"
   ]
  },
  {
   "cell_type": "code",
   "execution_count": 26,
   "id": "d9c5a59c-afc1-4241-acd8-f64fda334002",
   "metadata": {},
   "outputs": [],
   "source": [
    "symCheck :: SymRow -> SymBool\n",
    "symCheck xs = distinct xs .&& inbound xs\n",
    "  where\n",
    "    distinct :: SymRow -> SymBool\n",
    "    distinct [] = true\n",
    "    distinct (x : xs1) = symNotElem x xs1 .&& distinct xs1\n",
    "    inbound :: SymRow -> SymBool\n",
    "    inbound = symAll (\\x -> x .>= 1 .&& x .<= 9)\n",
    "\n",
    "checkSymBoard :: SymBoard -> SymBool\n",
    "checkSymBoard rows = symAll symCheck (toCheck rows)"
   ]
  },
  {
   "cell_type": "code",
   "execution_count": 27,
   "id": "8f2954e4-c3de-4d27-8149-a0d848476417",
   "metadata": {},
   "outputs": [],
   "source": [
    "sudoku :: SymBoard -> IO (Maybe Board)\n",
    "sudoku puzzle = do\n",
    "  m <- solve z3 $ checkSymBoard puzzle\n",
    "  case m of\n",
    "    Left _ -> return Nothing\n",
    "    Right model -> return $ Just $ evalSymToCon model puzzle"
   ]
  },
  {
   "cell_type": "code",
   "execution_count": 28,
   "id": "3f38a507-fd11-4bed-b57f-e4e8b1454613",
   "metadata": {},
   "outputs": [
    {
     "data": {
      "text/plain": [
       "Just\n",
       "  [ [7, 3, 4, 1, 6, 2, 9, 8, 5],\n",
       "    [6, 8, 5, 4, 7, 9, 3, 2, 1],\n",
       "    [2, 1, 9, 5, 3, 8, 6, 4, 7],\n",
       "    [5, 6, 8, 9, 1, 3, 2, 7, 4],\n",
       "    [3, 4, 2, 6, 8, 7, 1, 5, 9],\n",
       "    [1, 9, 7, 2, 5, 4, 8, 3, 6],\n",
       "    [8, 5, 1, 7, 2, 6, 4, 9, 3],\n",
       "    [9, 2, 6, 3, 4, 5, 7, 1, 8],\n",
       "    [4, 7, 3, 8, 9, 1, 5, 6, 2]\n",
       "  ]"
      ]
     },
     "metadata": {},
     "output_type": "display_data"
    },
    {
     "data": {
      "text/plain": [
       "Just\n",
       "  [ [8, 9, 4, 1, 3, 5, 6, 7, 2],\n",
       "    [5, 2, 7, 9, 4, 6, 8, 3, 1],\n",
       "    [1, 6, 3, 7, 2, 8, 5, 4, 9],\n",
       "    [6, 5, 1, 4, 7, 3, 9, 2, 8],\n",
       "    [2, 4, 9, 5, 8, 1, 7, 6, 3],\n",
       "    [7, 3, 8, 2, 6, 9, 4, 1, 5],\n",
       "    [3, 8, 2, 6, 9, 4, 1, 5, 7],\n",
       "    [9, 1, 6, 3, 5, 7, 2, 8, 4],\n",
       "    [4, 7, 5, 8, 1, 2, 3, 9, 6]\n",
       "  ]"
      ]
     },
     "metadata": {},
     "output_type": "display_data"
    },
    {
     "data": {
      "text/plain": [
       "Just\n",
       "  [ [5, 2, 4, 8, 6, 3, 1, 9, 7],\n",
       "    [8, 6, 7, 1, 9, 5, 3, 4, 2],\n",
       "    [1, 9, 3, 2, 4, 7, 5, 6, 8],\n",
       "    [2, 7, 6, 4, 3, 9, 8, 5, 1],\n",
       "    [4, 3, 5, 7, 8, 1, 9, 2, 6],\n",
       "    [9, 8, 1, 5, 2, 6, 4, 7, 3],\n",
       "    [7, 4, 9, 3, 1, 2, 6, 8, 5],\n",
       "    [6, 1, 2, 9, 5, 8, 7, 3, 4],\n",
       "    [3, 5, 8, 6, 7, 4, 2, 1, 9]\n",
       "  ]"
      ]
     },
     "metadata": {},
     "output_type": "display_data"
    },
    {
     "data": {
      "text/plain": [
       "Just\n",
       "  [ [6, 7, 2, 5, 1, 3, 8, 4, 9],\n",
       "    [8, 3, 1, 6, 9, 4, 5, 7, 2],\n",
       "    [5, 4, 9, 8, 7, 2, 1, 3, 6],\n",
       "    [1, 5, 7, 4, 6, 9, 3, 2, 8],\n",
       "    [3, 9, 6, 2, 8, 1, 4, 5, 7],\n",
       "    [2, 8, 4, 7, 3, 5, 9, 6, 1],\n",
       "    [4, 1, 5, 9, 2, 6, 7, 8, 3],\n",
       "    [9, 2, 8, 3, 4, 7, 6, 1, 5],\n",
       "    [7, 6, 3, 1, 5, 8, 2, 9, 4]\n",
       "  ]"
      ]
     },
     "metadata": {},
     "output_type": "display_data"
    }
   ],
   "source": [
    "sudoku easy >>= pprint\n",
    "sudoku medium >>= pprint\n",
    "sudoku hard >>= pprint\n",
    "sudoku expert >>= pprint"
   ]
  },
  {
   "cell_type": "markdown",
   "id": "2cf6dccc-a022-4149-9633-003fa46dbd19",
   "metadata": {},
   "source": [
    "## Conclusion\n",
    "\n",
    "In this tutorial, we started a journey into the world of solver-aided programming with Grisette.\n",
    "We learned how Grisette extends the Haskell programming model with symbolic types, allowing us to represent unknown or uncertain values in our programs.\n",
    "\n",
    "By introducing symbolic constants and leveraging the power of SMT solvers like Z3, we discovered how to reason about our programs and find concrete values that satisfy given constraints.\n",
    "We explored the `SymInteger` and `SymBool` types.\n",
    "These symbolic types serve as the foundation for symbolic reasoning in Grisette.\n",
    "We then use solvers to get mappings from symbolic constants to concrete values that make our symbolic expressions evaluate to a desired outcome.\n",
    "\n",
    "To showcase the potential of Grisette, we built a small expression equivalence verifier.\n",
    "This example demonstrated how we use symbolic execution and SMT solving to prove the equivalence of two expressions or find counterexamples when they are not equivalent.\n",
    "We then strengthened our understanding by implementing a sudoku puzzle solver.\n",
    "\n",
    "However, this is just the tip of the iceberg. Grisette is a battery-included system that offers a rich set of features and abstractions that enable us to tackle more complex problems and build sophisticated solver-aided tools.\n",
    "In future tutorials, we will explore these advanced concepts and learn how to harness the full power of Grisette.\n",
    "\n",
    "As you continue your journey with Grisette, you will discover a whole new paradigm of programming, where the lines between traditional development and formal methods blur.\n",
    "By embracing symbolic reasoning and solver-aided techniques, you will unlock new possibilities for creating reliable, correct, and efficient software."
   ]
  }
 ],
 "metadata": {
  "kernelspec": {
   "display_name": "Haskell",
   "language": "haskell",
   "name": "haskell"
  },
  "language_info": {
   "codemirror_mode": "ihaskell",
   "file_extension": ".hs",
   "mimetype": "text/x-haskell",
   "name": "haskell",
   "pygments_lexer": "Haskell",
   "version": "9.6.5"
  }
 },
 "nbformat": 4,
 "nbformat_minor": 5
}
