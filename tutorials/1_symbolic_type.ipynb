{
 "cells": [
  {
   "cell_type": "code",
   "execution_count": 1,
   "id": "383263d1-2b28-47a0-8fb9-00b6e00c0de1",
   "metadata": {},
   "outputs": [],
   "source": [
    "{-# LANGUAGE GADTs #-}\n",
    "{-# LANGUAGE OverloadedStrings #-}\n",
    "import Grisette"
   ]
  },
  {
   "cell_type": "markdown",
   "id": "24b251c7-74e8-421f-aa91-be7e5dcceddc",
   "metadata": {},
   "source": [
    "# Solver-Aided Programming with Grisette"
   ]
  },
  {
   "cell_type": "markdown",
   "id": "b1a13def-5945-4ab7-bd33-9609dd5a39ae",
   "metadata": {},
   "source": [
    "## Introduction\n",
    "\n",
    "Grisette is a power Haskell library that enables solver-aided programming. It allows you to use off-the-shelf constraint solvers to reason about programs by introducing symbolic types and performing symbolic execution.\n",
    "\n",
    "In this tutorial, you will learn about\n",
    "\n",
    "- how to use symbolic types in Grisette, and\n",
    "- how to call a solver to reason about the symbolic types, and\n",
    "- how to construct a small verifier in Grisette."
   ]
  },
  {
   "cell_type": "markdown",
   "id": "41d6af98-75d7-4951-8fe9-19bd73c73ce4",
   "metadata": {},
   "source": [
    "## Symbolic Types\n",
    "\n",
    "Let's start with a simple Haskell code snippet that processes two input `a` and `b`, and returns `a + a + b`."
   ]
  },
  {
   "cell_type": "code",
   "execution_count": 2,
   "id": "d81379e0-b64c-4eca-a2fc-b4abf248452b",
   "metadata": {},
   "outputs": [],
   "source": [
    "concreteFunc :: Integer -> Integer -> Integer\n",
    "concreteFunc a b = a + a + b"
   ]
  },
  {
   "cell_type": "markdown",
   "id": "7c904f5e-c927-40fb-b714-09ce4e8970f2",
   "metadata": {},
   "source": [
    "When applied to concrete values like 10 and 20, `concreteFunc` will return the concrete result."
   ]
  },
  {
   "cell_type": "code",
   "execution_count": 3,
   "id": "de4cca80-6a5e-4088-b2d8-b73ee985c1e1",
   "metadata": {},
   "outputs": [
    {
     "data": {
      "text/plain": [
       "40"
      ]
     },
     "metadata": {},
     "output_type": "display_data"
    }
   ],
   "source": [
    "concreteFunc 10 20"
   ]
  },
  {
   "cell_type": "markdown",
   "id": "41d7eafe-0e12-4f26-a25c-6bfd5bbdaf9f",
   "metadata": {},
   "source": [
    "Grisette extends the programming model with symbolic types. In the following code, the `SymInteger` represents a symbolic integer, which can be a *symbolic term* over *symbolic constants*.\n",
    "A *symbolic constant* is a placeholder for a constant value and can be created using its name with the `OverloadedStrings` extension.\n",
    "\n",
    "Here is an example of the symbolic function that constructs a symbolic term."
   ]
  },
  {
   "cell_type": "code",
   "execution_count": 4,
   "id": "276d0e65-503d-4f46-9f11-53468dc1c13b",
   "metadata": {},
   "outputs": [],
   "source": [
    "symbolicFunc :: SymInteger -> SymInteger -> SymInteger\n",
    "symbolicFunc a b = a + a + b"
   ]
  },
  {
   "cell_type": "markdown",
   "id": "ace10173-7844-4a40-85c2-85f5c1cdd3e7",
   "metadata": {},
   "source": [
    "When applied to symbolic values, `symbolicFunc` will return a symbolic result. The result of `symbolicFunc \"a\" \"b\"` is the symbolic term `(+ (+ a a) b)`. Note that the symbolic constants with the same name are the same symbolic constant."
   ]
  },
  {
   "cell_type": "code",
   "execution_count": 5,
   "id": "d552c0f9-cde8-4fc4-8510-e0a9f491b06f",
   "metadata": {},
   "outputs": [
    {
     "data": {
      "text/plain": [
       "(+ (+ a a) b)"
      ]
     },
     "metadata": {},
     "output_type": "display_data"
    }
   ],
   "source": [
    "symbolicFunc \"a\" \"b\""
   ]
  },
  {
   "cell_type": "markdown",
   "id": "ec169023-de8d-47dd-94bf-d5b0a711b4aa",
   "metadata": {},
   "source": [
    "## Solver-Aided Reasoning\n",
    "\n",
    "The power of symbolic values lies in their ability to be translated to off-the-shelf solvers for reasoning about programs.\n",
    "Let's consider the following question:\n",
    "\n",
    "- For what input `a` is the result of `symbolicFunc a 20` equal to 40?\n",
    "\n",
    "To answer this, we construct a symbolic boolean term asserting that `symbolicFunc a 20` is equal to 40."
   ]
  },
  {
   "cell_type": "code",
   "execution_count": 6,
   "id": "2d801dfc-5558-465c-aef3-8aa5a5fdb5d5",
   "metadata": {},
   "outputs": [
    {
     "data": {
      "text/plain": [
       "(= (+ a a) 20)"
      ]
     },
     "metadata": {},
     "output_type": "display_data"
    },
    {
     "data": {
      "text/plain": [
       "Model {a -> 10 :: Integer}"
      ]
     },
     "metadata": {},
     "output_type": "display_data"
    }
   ],
   "source": [
    "a :: SymInteger\n",
    "a = \"a\"\n",
    "print $ symbolicFunc a 20 .== 40\n",
    "Right model <- solve (precise z3) $ symbolicFunc a 20 .== 40\n",
    "print model"
   ]
  },
  {
   "cell_type": "markdown",
   "id": "d74f877e-3763-4c7e-af02-ba9681322f0d",
   "metadata": {},
   "source": [
    "Note that we use `.==` instead of `==` to construct the symbolic term. The `solve` function sends the term to the solver (in this case, the Z3 solver) and returns either a model or a failure.\n",
    "It treats all the symbolic constants in the boolean term as existentially quantified and tries to find assignments for them, and\n",
    "a model is a mapping from symbolic constants to concrete constants that, when substituted into the boolean term, evaluates to true.\n",
    "\n",
    "We can use the model to evaluate a symbolic term and perform the substitution."
   ]
  },
  {
   "cell_type": "code",
   "execution_count": 7,
   "id": "1e9d529d-cf3f-479b-91b4-2cf62384dc57",
   "metadata": {},
   "outputs": [
    {
     "data": {
      "text/plain": [
       "10"
      ]
     },
     "metadata": {},
     "output_type": "display_data"
    },
    {
     "data": {
      "text/plain": [
       "40"
      ]
     },
     "metadata": {},
     "output_type": "display_data"
    },
    {
     "data": {
      "text/plain": [
       "True"
      ]
     },
     "metadata": {},
     "output_type": "display_data"
    }
   ],
   "source": [
    "print (evaluateSymToCon model a :: Integer)\n",
    "print (evaluateSymToCon model (symbolicFunc a 20) :: Integer)\n",
    "print (evaluateSymToCon model (symbolicFunc a 20 .== 40) :: Bool)"
   ]
  },
  {
   "cell_type": "markdown",
   "id": "625dad99-1ca5-4279-a2aa-846dec867ab1",
   "metadata": {},
   "source": [
    "Sometimes, the solver may not find a model or may conclude that no such model exists. For example, if we ask the solver whether there exists an integer `a` such that `symbolicFunc a 20` is equal to 39, the solver will conclude that the constraint cannot be satisfied:"
   ]
  },
  {
   "cell_type": "code",
   "execution_count": 8,
   "id": "29b4aa72-bf94-4980-a128-9b8b579a62e8",
   "metadata": {},
   "outputs": [
    {
     "data": {
      "text/plain": [
       "Left Unsat"
      ]
     },
     "metadata": {},
     "output_type": "display_data"
    }
   ],
   "source": [
    "r <- solve (precise z3) $ symbolicFunc a 20 .== 39\n",
    "print r"
   ]
  },
  {
   "cell_type": "markdown",
   "id": "83db53c8-fa94-47e5-a1a4-bb6ef79cce6a",
   "metadata": {},
   "source": [
    "The result, in this case, would be `Left Unsat`, indicating that the constraint is unsatisfiable."
   ]
  },
  {
   "cell_type": "markdown",
   "id": "6950e27f-ca6a-46fd-bd5b-88d41bd2901b",
   "metadata": {},
   "source": [
    "## A Small Expression Equivalence Verifier\n",
    "\n",
    "Now that we have a basic understanding of Grisette's symbolic types and solver-aided reasoning, let's dive into building a practical application: an expression equivalence verifier. This tool can be particularly useful when developing an optimizing compiler that performs term rewrites. By verifying the equivalence of expressions before and after the rewrite, you can ensure the correctness of your optimization rules.\n",
    "\n",
    "We'll start by defining a small language for our expressions:\n",
    "\n",
    "```\n",
    "E -> I int\n",
    "   | B bool\n",
    "   | Add E E\n",
    "   | Mul E E\n",
    "   | Eq E E\n",
    "```\n",
    "\n",
    "Using GADTs (Generalized Algebraic Data Types), we can define well-typed instances of our expression language as follows:\n",
    "\n",
    "(If you aren't familiar with GADTs, you may refer to https://en.wikibooks.org/wiki/Haskell/GADT. Our example is also adapted from the expression language defined there.)"
   ]
  },
  {
   "cell_type": "code",
   "execution_count": 9,
   "id": "59355990-cc9c-4daa-82a5-6d5457ef4aa0",
   "metadata": {},
   "outputs": [],
   "source": [
    "data Expr a where\n",
    "  I :: SymInteger -> Expr SymInteger\n",
    "  B :: SymBool -> Expr SymBool\n",
    "  Add :: Expr SymInteger -> Expr SymInteger -> Expr SymInteger\n",
    "  Mul :: Expr SymInteger -> Expr SymInteger -> Expr SymInteger\n",
    "  Eq :: SEq a => Expr a -> Expr a -> Expr SymBool"
   ]
  },
  {
   "cell_type": "markdown",
   "id": "d6d8bd29-ffcb-4e99-9635-30b34ef78e0c",
   "metadata": {},
   "source": [
    "Note the `SEq` constraint in the `Eq` constructor. This is a type class provided by Grisette that enables the use of `.==` or `./=` operators for symbolic equality and inequality comparisons.\n",
    "\n",
    "Next, let's define an evaluation function for our expression language:"
   ]
  },
  {
   "cell_type": "code",
   "execution_count": 10,
   "id": "60e5d293-9063-4ae9-bc34-0fce0a082a90",
   "metadata": {},
   "outputs": [],
   "source": [
    "eval :: Expr a -> a\n",
    "eval (I n) = n\n",
    "eval (B b) = b\n",
    "eval (Add e1 e2) = eval e1 + eval e2\n",
    "eval (Mul e1 e2) = eval e1 * eval e2\n",
    "eval (Eq e1 e2) = eval e1 .== eval e2"
   ]
  },
  {
   "cell_type": "markdown",
   "id": "cd6d81b0-01e5-4237-99a5-cc11c4bc1272",
   "metadata": {},
   "source": [
    "With our language and evaluation function in place, we can now build the equivalence verifier. To prove that two expressions are equivalent, we need to show that the following property $p_1$ holds. Here, $\\mathrm{consts}(e)$ is the set of all symbolic constants in the expression $e$.\n",
    "\n",
    "$p_1=\\forall~\\mathrm{constant}\\in \\mathrm{consts}(e_1), \\mathrm{consts}(e_2). \\mathrm{eval}(e_1) = \\mathrm{eval}(e_2)$\n",
    "\n",
    "However, solvers typically struggle with efficiently handling universally quantified formulas. To circumvent this, we can transform $p_1$ into an existentially quantified formula $p_2$, such that $p_2$ is unsatisfiable implies that $p_1$ is a tautology:\n",
    "\n",
    "$p_2=\\exists~\\mathrm{constant}\\in \\mathrm{consts}(e_1), \\mathrm{consts}(e_2). \\mathrm{eval}(e_1) \\neq\\mathrm{eval}(e_2)$\n",
    "\n",
    "Here's the implementation of the equivalence verifier:"
   ]
  },
  {
   "cell_type": "code",
   "execution_count": 11,
   "id": "fe897e24-7168-431c-9657-be4068983617",
   "metadata": {},
   "outputs": [],
   "source": [
    "verifyEquivalent :: (EvaluateSym a, SEq a, Show a) => Expr a -> Expr a -> IO ()\n",
    "verifyEquivalent e1 e2 = do\n",
    "  res <- solve (precise z3) $ eval e1 ./= eval e2\n",
    "  case res of\n",
    "    Left Unsat -> putStrLn \"The two expressions are equivalent\"\n",
    "    Left err -> putStrLn $ \"The solver returned unexpected response: \" <> show err\n",
    "    Right model -> do\n",
    "      putStrLn \"The two expressions are not equivalent, under the model:\"\n",
    "      print model\n",
    "      putStrLn $ \"lhs evaluates to: \" <> show (evaluateSym False model $ eval e1)\n",
    "      putStrLn $ \"rhs evaluates to: \" <> show (evaluateSym False model $ eval e2)"
   ]
  },
  {
   "cell_type": "markdown",
   "id": "4bc66d6c-a245-4d7e-a81e-f634d6caa321",
   "metadata": {},
   "source": [
    "The `EvaluateSym` type class used here is another Grisette type class that enables the substitution of symbolic constants with concrete values from a model. `evaluateSym False` substitutes only the symbolic constants present in the model, while `evaluateSym True` assigns default concrete values to any unmentioned constants.\n",
    "\n",
    "Let's put our verifier to the test! First, we'll prove the distributive property of multiplication over addition:"
   ]
  },
  {
   "cell_type": "code",
   "execution_count": 12,
   "id": "5eafb546-8a1c-44de-a16f-1121c94998d9",
   "metadata": {},
   "outputs": [
    {
     "data": {
      "text/plain": [
       "The two expressions are equivalent"
      ]
     },
     "metadata": {},
     "output_type": "display_data"
    }
   ],
   "source": [
    "verifyEquivalent\n",
    "  (Mul (I \"a\") (Add (I \"b\") (I \"c\")))\n",
    "  (Add (Mul (I \"a\") (I \"b\")) (Mul (I \"a\") (I \"c\")))"
   ]
  },
  {
   "cell_type": "markdown",
   "id": "1d4061fa-0453-494e-a982-c27d423d63cc",
   "metadata": {},
   "source": [
    "Next, we'll attempt to prove an incorrect equivalence:"
   ]
  },
  {
   "cell_type": "code",
   "execution_count": 13,
   "id": "ed688779-a8b5-419f-ad5b-b044d12eebc6",
   "metadata": {},
   "outputs": [
    {
     "data": {
      "text/plain": [
       "The two expressions are not equivalent, under the model:\n",
       "Model {a -> -3 :: Integer, b -> 2 :: Integer, c -> 7 :: Integer}\n",
       "lhs evaluates to: 11\n",
       "rhs evaluates to: -4"
      ]
     },
     "metadata": {},
     "output_type": "display_data"
    }
   ],
   "source": [
    "verifyEquivalent\n",
    "  (Add (I \"a\") (Mul (I \"b\") (I \"c\")))\n",
    "  (Mul (Add (I \"a\") (I \"b\")) (Add (I \"a\") (I \"c\")))"
   ]
  },
  {
   "cell_type": "markdown",
   "id": "24e4e36a-9c7a-4e99-a6b9-987e12bae07d",
   "metadata": {},
   "source": [
    "As expected, the solver will provide a counterexample model demonstrating that the expressions are not equivalent.\r\n",
    "\r\n",
    "Finally, let's verify a simple boolean equivalence (`con` converts a concrete boolean value to a symbolic boolean term):"
   ]
  },
  {
   "cell_type": "code",
   "execution_count": 14,
   "id": "78ef7b21-8ba0-425b-9600-b221e8c692e1",
   "metadata": {},
   "outputs": [
    {
     "data": {
      "text/plain": [
       "The two expressions are equivalent"
      ]
     },
     "metadata": {},
     "output_type": "display_data"
    }
   ],
   "source": [
    "verifyEquivalent (Eq (I \"a\") (I \"a\")) (B $ con True)"
   ]
  },
  {
   "cell_type": "markdown",
   "id": "2cf6dccc-a022-4149-9633-003fa46dbd19",
   "metadata": {},
   "source": [
    "## Conclusion\n",
    "\n",
    "In this tutorial, we embarked on an exciting journey into the world of solver-aided programming with Grisette. We learned how Grisette extends the Haskell programming model with symbolic types, allowing us to represent unknown or uncertain values in our programs.\r\n",
    "\r\n",
    "By introducing symbolic constants and leveraging the power of SMT solvers like Z3, we discovered how to reason about our programs and find concrete values that satisfy given constraints. We explored the `SymInteger` and `SymBool` typs. These symbolic types serve as the foundation for symbolic reasoning in Grisette.\r\n",
    "\r\n",
    "Moreover, we delved into the concept of model generation, where the solver provides a mapping from symbolic constants to concrete values that make our symbolic expressions evaluate to a desired outcome.\n",
    "\r\n",
    "To showcase the potential of Grisette, we built a small expression equivalence verifier. This example demonstrated how we can leverage symbolic execution and SMT solving to prove the equivalence of two expressions, or find counterexamples when they are not equivalent.\r\n",
    "\r\n",
    "However, this is just the tip of the iceberg. Grisette offers a rich set of features and abstractions that enable us to tackle more complex problems and build sophisticated solver-aided tools. In future tutorials, we will explore these advanced concepts and learn how to harness the full power of Grisette.\r\n",
    "\r\n",
    "As you continue your journey with Grisette, you will discover a whole new paradigm of programming, where the lines between traditional development and formal methods blur. By embracing symbolic reasoning and solver-aided techniques, you will unlock new possibilities for creating reliable, correct, and efficient software."
   ]
  }
 ],
 "metadata": {
  "kernelspec": {
   "display_name": "Haskell",
   "language": "haskell",
   "name": "haskell"
  },
  "language_info": {
   "codemirror_mode": "ihaskell",
   "file_extension": ".hs",
   "mimetype": "text/x-haskell",
   "name": "haskell",
   "pygments_lexer": "Haskell",
   "version": "9.6.3"
  }
 },
 "nbformat": 4,
 "nbformat_minor": 5
}
