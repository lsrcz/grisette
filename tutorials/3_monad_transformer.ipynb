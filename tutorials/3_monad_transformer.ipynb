{
 "cells": [
  {
   "cell_type": "code",
   "execution_count": 1,
   "id": "763289b5-a625-440d-9b95-f6751d8fef95",
   "metadata": {},
   "outputs": [],
   "source": [
    "{-# LANGUAGE DeriveGeneric #-}\n",
    "{-# LANGUAGE DerivingVia #-}\n",
    "{-# LANGUAGE LambdaCase #-}\n",
    "{-# LANGUAGE OverloadedStrings #-}\n",
    "import Control.Exception\n",
    "import Control.Monad.Except\n",
    "import Control.Monad.State\n",
    "import qualified Data.Text as T\n",
    "import GHC.Generics\n",
    "import Grisette\n",
    "import Grisette.Lib.Control.Monad.Except\n",
    "import Grisette.Lib.Control.Monad.Trans.Class\n",
    "import Grisette.Lib.Control.Monad.Trans.State.Lazy"
   ]
  },
  {
   "cell_type": "markdown",
   "id": "c4a6b2e1-5c7f-4cec-aeb9-a86ab60f8880",
   "metadata": {},
   "source": [
    "# Using Monad Transformers with Grisette"
   ]
  },
  {
   "cell_type": "markdown",
   "id": "b1a00fd1-157c-4ea2-975c-39980d48c9c4",
   "metadata": {},
   "source": [
    "## Introduction\n",
    "\n",
    "In the [previous tutorial](./2_union.ipynb), we discussed how to use the `Union` monad to model multi-path execution. In this tutorial, we'll explore handling failure paths and stateful computations using monads and monad transformers. We'll use `Either` and `ExceptT` to represent and handle errors and use `State` and `StateT` to model stateful computations.\n",
    "\n",
    "We will extend our expression reasoning tool to support a more expressive language with variables, division, and assignment statements, using monad transformers to add errors and states to our multi-path execution. We will then do some verification and test generation for this language.\n",
    "\n",
    "In this tutorial, you will learn how to:\n",
    "\n",
    "- Handle failure paths and stateful computations using monads and monad transformers\n",
    "- Extend the expression reasoning tool to support a more expressive language with states and exceptions\n",
    "- Use Grisette's `solveExcept` function to find inputs that trigger specific exceptions or satisfy predicates over the program's result\n",
    "\n",
    "By the end of this tutorial, you'll have a deeper understanding of handling errors and states in solver-aided applications using monads and monad transformers, and you'll be able to create more expressive and verifiable languages using Grisette.\n",
    "\n",
    "Please make sure that you have `z3` (https://github.com/Z3Prover/z3) installed and accessible in `$PATH`.\n",
    "\n",
    "Note that some inline `code blocks` have links to the documentation. It's possible that they are not rendered in a visible way as a link in jupyter notebooks."
   ]
  },
  {
   "cell_type": "markdown",
   "id": "4a53126b-46ea-429a-b85e-979e0abf918e",
   "metadata": {},
   "source": [
    "## Paths That May Fail\n",
    "\n",
    "When working with programs that involve complex computations, it's common to encounter scenarios where certain operations may fail. These failures can occur due to various reasons, such as invalid input, or unexpected conditions.\n",
    "\n",
    "In the context of verification and symbolic execution, handling failure paths is crucial to ensure the correctness of our programs. We need a way to represent and reason about these potential failures in a structured and composable manner.\n",
    "\n",
    "In Haskell, a common approach to handling failure paths is to use the `Either` type. The `Either` type is defined as follows:\n",
    "\n",
    "```haskell\n",
    "data Either e a\n",
    "  = Left e\n",
    "  | Right a\n",
    "```\n",
    "\n",
    "It represents a value that can be either a `Left` value of type `e` or a `Right` value of type `a`.\n",
    "By convention, the `Left` constructor is used to represent failure or error cases, while the `Right` constructor is used to represent successful computations.\n",
    "\n",
    "For example, let's implement a safe division function for machine integers (signed bit vectors):"
   ]
  },
  {
   "cell_type": "code",
   "execution_count": 2,
   "id": "32adf0f8-3c60-4066-86f9-d65ea4656e90",
   "metadata": {},
   "outputs": [
    {
     "data": {
      "text/plain": [
       "Right 2"
      ]
     },
     "metadata": {},
     "output_type": "display_data"
    },
    {
     "data": {
      "text/plain": [
       "Left divide by zero"
      ]
     },
     "metadata": {},
     "output_type": "display_data"
    },
    {
     "data": {
      "text/plain": [
       "Left arithmetic overflow"
      ]
     },
     "metadata": {},
     "output_type": "display_data"
    }
   ],
   "source": [
    "safeDiv :: Int -> Int -> Either ArithException Int\n",
    "safeDiv x 0 = Left DivideByZero\n",
    "safeDiv x (-1) | x == minBound = Left Overflow\n",
    "safeDiv x y = Right (x `div` y)\n",
    "\n",
    "safeDiv 5 2            -- Right 2\n",
    "safeDiv 5 0            -- Left divide by zero\n",
    "safeDiv minBound (-1)  -- Left arithmetic overflow"
   ]
  },
  {
   "cell_type": "markdown",
   "id": "c07e156d-6ec7-4503-8e13-ed8a5dc938d6",
   "metadata": {},
   "source": [
    "In this function, we use `Either` to handle invalid inputs. The function returns a `DivideByZero` error when dividing by zero, or an `Overflow` error when dividing `minBound` by `-1` (since `-minBound` is not representable as a 2's complement integer).\n",
    "This allows us to handle the errors and record what has happened in a purely functional way, without resorting to exceptions or null values.\n",
    "\n",
    "`Left` and `Right` could also be replaced by `throwError` and `return`. These are more general operations for all the monads that could handle failures, and we will discuss them later."
   ]
  },
  {
   "cell_type": "markdown",
   "id": "ff39807e-f75d-4b8b-a696-76bb2ee97af3",
   "metadata": {},
   "source": [
    "### Short-Circuiting the Error\n",
    "\n",
    "Unsurprisingly, `Either e` is a monad.\n",
    "One of the key benefits of using `Either` in combination with monadic operations is the ability to sequence computations that may fail.\n",
    "The bind (`>>=`) operation allows us to chain computations together, but with a special behavior when it comes to handling failures.\n",
    "\n",
    "The behavior of the bind operation for `Either` values is that it only continues execution when there's no error:\n",
    "when we bind with a function to an `Either` value using `>>=`, the function will only be applied if the `Either` value is a `Right` (success) value.\n",
    "If the `Either` value is a `Left` (failure) value, the bind operation will short-circuit and return the `Left` value without applying the function.\n",
    "\n",
    "This property is powerful because it allows us to write code that looks like a sequence of computations, but automatically handles failures along the way. If any computation in the sequence fails (i.e., returns a `Left` value), the subsequent computations will be skipped, and the failure will be propagated to the final result.\n",
    "\n",
    "Let's look at an example to illustrate this property:"
   ]
  },
  {
   "cell_type": "code",
   "execution_count": 3,
   "id": "6493ee17-b080-41fc-930a-ead8efc3de56",
   "metadata": {},
   "outputs": [],
   "source": [
    "f :: Int -> Int -> Int -> Either ArithException Int\n",
    "f a b c = do\n",
    "  d <- safeDiv a b\n",
    "  safeDiv d c"
   ]
  },
  {
   "cell_type": "markdown",
   "id": "1db285e5-ba7e-4bbc-b523-bd8b14bcf140",
   "metadata": {},
   "source": [
    "In this example, we have the `safeDiv` function from before, which performs division and returns an `Either` value.\n",
    "We build this `f` function that takes three integers `a`, `b`, `c`, and computes a result based on dividing `a` by `b`,\n",
    "then dividing the result by `c`.\n",
    "\n",
    "The `f` function uses the `do` notation, which is a syntactic sugar for monadic operations, as we've learned in previous tutorials.\n",
    "\n",
    "Now, let's see how the short-circuiting property comes into play:"
   ]
  },
  {
   "cell_type": "code",
   "execution_count": 4,
   "id": "c56a05d4-068a-4371-8284-fe2def98a7ee",
   "metadata": {},
   "outputs": [
    {
     "data": {
      "text/plain": [
       "Left arithmetic overflow"
      ]
     },
     "metadata": {},
     "output_type": "display_data"
    },
    {
     "data": {
      "text/plain": [
       "Left divide by zero"
      ]
     },
     "metadata": {},
     "output_type": "display_data"
    },
    {
     "data": {
      "text/plain": [
       "Right 2"
      ]
     },
     "metadata": {},
     "output_type": "display_data"
    }
   ],
   "source": [
    "-- Failure in the first division\n",
    "f minBound (-1) 0 -- Left arithmetic overflow\n",
    "\n",
    "-- Failure in the second division\n",
    "f 2 (-1) 0        -- Left divide by zero\n",
    "\n",
    "-- Successful computation\n",
    "f 16 3 2          -- Right 2"
   ]
  },
  {
   "cell_type": "markdown",
   "id": "7065df93-7372-4775-9454-f2d65035d0a1",
   "metadata": {},
   "source": [
    "In the first case, `f minBound (-1) 0` fails because the first division (`INT_MIN` divided by `-1`) results in a `Left` value.\n",
    "The bind operation short-circuits and returns the `Left Overflow` value without proceeding to the second division.\n",
    "\n",
    "In the second case, `f 2 (-1) 0` fails because the second division results in a `Left` value.\n",
    "This will cause the function to return the failure as the result.\n",
    "\n",
    "The third case succeeds because both divisions are valid. The bind operation applies the division to the `Right` values, and the final result is `Right 2`.\n",
    "\n",
    "Why is this property useful? Recall that in our expression synthesizer, we defined the `Value` type as follows (extended with some more errors that may be used in this tutorial):"
   ]
  },
  {
   "cell_type": "code",
   "execution_count": 5,
   "id": "f049630b-f643-475d-ab45-d25ebe1d5453",
   "metadata": {},
   "outputs": [],
   "source": [
    "data Value\n",
    "  = IValue SymInteger\n",
    "  | BValue SymBool\n",
    "  | BadValue\n",
    "  | DivisionError\n",
    "  deriving (Show)"
   ]
  },
  {
   "cell_type": "markdown",
   "id": "241f4500-9418-4203-99c8-2457a4d541b7",
   "metadata": {},
   "source": [
    "To deal with the `Value` type, we may need to pattern-match on the results to see whether it is a failure, and manually short-circuit the computation:"
   ]
  },
  {
   "cell_type": "code",
   "execution_count": 6,
   "id": "1ae01ce0-3d0e-47ab-882f-4b734be49bde",
   "metadata": {},
   "outputs": [
    {
     "data": {
      "text/plain": [
       "DivisionError"
      ]
     },
     "metadata": {},
     "output_type": "display_data"
    },
    {
     "data": {
      "text/plain": [
       "IValue 5"
      ]
     },
     "metadata": {},
     "output_type": "display_data"
    },
    {
     "data": {
      "text/plain": [
       "BadValue"
      ]
     },
     "metadata": {},
     "output_type": "display_data"
    }
   ],
   "source": [
    "add :: Value -> Value -> Value\n",
    "add (IValue l) (IValue r) = IValue $ l + r\n",
    "add DivisionError _ = DivisionError\n",
    "add BadValue _ = BadValue\n",
    "add _ DivisionError = DivisionError\n",
    "add _ _ = BadValue\n",
    "\n",
    "add DivisionError (IValue 1)       -- DivisionError\n",
    "add (IValue 2) (IValue 3)          -- IValue 5\n",
    "add (IValue 2) (BValue (con True)) -- BadValue"
   ]
  },
  {
   "cell_type": "markdown",
   "id": "fab825b8-d2a8-41c0-8399-c3a61677e363",
   "metadata": {},
   "source": [
    "If we define the errors as a dedicated type and use them as the `Left` value, we can then implement the `add` function cleanly:"
   ]
  },
  {
   "cell_type": "code",
   "execution_count": 7,
   "id": "6e0f549d-c436-419d-866c-f6d0b6ee45d3",
   "metadata": {},
   "outputs": [],
   "source": [
    "data Error\n",
    "  = BadValue\n",
    "  | DivisionError\n",
    "\n",
    "data Value\n",
    "  = IValue SymInteger\n",
    "  | BValue SymBool\n",
    "\n",
    "add :: Value -> Value -> Either Error Value\n",
    "add (IValue l) (IValue r) = return $ IValue $ l + r\n",
    "add _ _ = throwError BadValue"
   ]
  },
  {
   "cell_type": "markdown",
   "id": "56451b80-e52a-4bcc-bb8a-6509f4e4fbf0",
   "metadata": {},
   "source": [
    "By using `Either`, we can separate the concerns of successful and failure cases, making our code more modular and easier to reason about. This approach also aligns well with the concept with verification conditions, as we can capture the different paths separately and reason about them by asking whether a specific result or error can or cannot happen. We will demonstrate this in the verifier at the end of this tutorial."
   ]
  },
  {
   "cell_type": "markdown",
   "id": "ae52e2f8-5fa9-49d3-826f-c9bdbc1f90d6",
   "metadata": {},
   "source": [
    "## Stateful Computation\n",
    "\n",
    "In addition to handling failure paths, another common scenario in programming is dealing with stateful computations.\n",
    "In Haskell, stateful computations are typically modeled using the `State` monad.\n",
    "\n",
    "The `State` is defined as follows:\n",
    "\n",
    "```haskell\n",
    "newtype State s a = State { runState :: s -> (a, s) }\n",
    "```\n",
    "\n",
    "Here, `s` represents the type of the state, and `a` represents the result type of the computation.\n",
    "A stateful computation is a computation that computes the result from an initial state, and returns the new state along with the result.\n",
    "\n",
    "The `State` monad provides two primary operations:\n",
    "\n",
    "- `get :: State s s`: Retrieves the current state.\n",
    "- `put :: s -> State s ()`: Sets the current state to a new value.\n",
    "\n",
    "These operations allow us to read from and modify the state within a computation. Here's a simple example that demonstrates the usage of the `State` monad:"
   ]
  },
  {
   "cell_type": "code",
   "execution_count": 8,
   "id": "2c4600fd-fde0-41cb-b22b-e1f490029b02",
   "metadata": {},
   "outputs": [
    {
     "data": {
      "text/plain": [
       "((2,102),102)"
      ]
     },
     "metadata": {},
     "output_type": "display_data"
    }
   ],
   "source": [
    "f :: Int -> State Int (Int, Int)\n",
    "f v = do\n",
    "  a1 <- get\n",
    "  put $ v + a1\n",
    "  a2 <- get\n",
    "  return (a1, a2)\n",
    "\n",
    "initialState = 2\n",
    "runState (f 100) initialState -- ((2,102),102)"
   ]
  },
  {
   "cell_type": "markdown",
   "id": "e4a04395-9df7-4ced-af67-d16d73a09eb0",
   "metadata": {},
   "source": [
    "In this example, the `f` function uses the `State` monad to manage an `Int` state. It retrieves the current state using `get`, sets the state to the old state plus the argument, and then retrieves the new state.\n",
    "\n",
    "For more details on the state monad, see https://en.wikibooks.org/wiki/Haskell/Understanding_monads/State."
   ]
  },
  {
   "cell_type": "markdown",
   "id": "bd435f2a-0351-42d0-8e60-5df224264d38",
   "metadata": {},
   "source": [
    "## Combining Monads\n",
    "\n",
    "In the previous sections, we explored the `Either` monad for handling failure paths and the `State` monad for managing stateful computations. However, in real-world scenarios, we often need to combine multiple monadic effects within a single computation. This is where monad transformers come into play.\n",
    "\n",
    "Monad transformers allow us to combine the effects of multiple monads in a modular way. They provide a way to stack monads on each other, creating a new monad incorporating the effects of all the individual monads.\n",
    "\n",
    "For example, the following are monad transformers for `Either` and `State`:\n",
    "\n",
    "- `ExceptT`: Adds exception handling to a monad.\n",
    "- `StateT`: Adds state management to a monad.\n",
    "\n",
    "To use a monad transformer, we stack it on top of an existing monad. For example, to combine the effects of `Either` and `State`, we can use the `StateT` transformer with `Either` as the underlying monad:"
   ]
  },
  {
   "cell_type": "code",
   "execution_count": 9,
   "id": "607ce1d6-1090-43ca-b84d-bd6b253ce96e",
   "metadata": {},
   "outputs": [],
   "source": [
    "type MyMonad = StateT Int (Either ArithException)"
   ]
  },
  {
   "cell_type": "markdown",
   "id": "f39d0ec4-3828-4383-87c8-5dcf38c41748",
   "metadata": {},
   "source": [
    "In this example, `MyMonad` is a monad that incorporates both state management and exception handling. The `Int` represents the state type, and `ArithException` represents the error type. The `throwError`, `return`, `get` operations all work on this monad, thanks to the `MonadError` and `MonadState` monad classes provided by the `mtl` library.\n",
    "With these monad classes, we can write functions that work with any monad that implements the required class instances. This allows us to write more generic and reusable code.\n",
    "\n",
    "Below, we extend the `safeDiv` function to work with monads that implement the `MonadError` class and implement the `f` function that performs division with the left-hand side from function arguments and the right-hand side from the state."
   ]
  },
  {
   "cell_type": "code",
   "execution_count": 10,
   "id": "c637c5eb-265b-4948-a084-ca14ebcbee17",
   "metadata": {},
   "outputs": [
    {
     "data": {
      "text/plain": [
       "Right (2,3)"
      ]
     },
     "metadata": {},
     "output_type": "display_data"
    },
    {
     "data": {
      "text/plain": [
       "Left divide by zero"
      ]
     },
     "metadata": {},
     "output_type": "display_data"
    }
   ],
   "source": [
    "safeDiv :: (MonadError ArithException m) => Int -> Int -> m Int\n",
    "safeDiv x 0 = throwError DivideByZero\n",
    "safeDiv x (-1) | x == minBound = throwError Overflow\n",
    "safeDiv x y = return (x `div` y)\n",
    "\n",
    "f :: Int -> MyMonad Int\n",
    "f lhs = do\n",
    "  rhs <- get\n",
    "  safeDiv lhs rhs\n",
    "\n",
    "runStateT (f 8) 3 -- Right (2, 3)\n",
    "runStateT (f 8) 0 -- Left divide by zero."
   ]
  },
  {
   "cell_type": "markdown",
   "id": "f3c71385-2ad2-4e35-b357-35ffe0b2cee0",
   "metadata": {},
   "source": [
    "In the `f` function, we use `get` to retrieve the current state value, which represents the right-hand side of the division.\n",
    "We then pass the left-hand side (`lhs`) and the right-hand side (`rhs`) to the `safeDiv` function,\n",
    "which performs the division and returns the result (or exception) in the `MyMonad` context.\n",
    "\n",
    "The `runStateT` function is used to run the stateful computation with an initial state value. It returns an `Either` value that represents either the successful result or an error.\n",
    "\n",
    "In the next section, we will apply these concepts to our `Union` monad, enabling symbolic evaluation with both error handling and state management. "
   ]
  },
  {
   "attachments": {},
   "cell_type": "markdown",
   "id": "2d59f9ed-0d5c-420c-91df-94858e1323ff",
   "metadata": {},
   "source": [
    "## Extend our Expression Reasoning Tool\n",
    "\n",
    "Now that we've seen how to handle failures and states using monads and monad transformers, let's apply these concepts to extend our expression reasoning tool.\n",
    "We'll create a language with effectful statements for reading from and writing to a global state, while also handling potential failures like division by zero. Monad transformers will help us manage the complexity of combining errors and state.\n",
    "\n",
    "First, let's enhance our expression type by adding two new constructors:\n",
    "\n",
    "- `Var`: Looks up variables in the global environment, raising an undefined variable error if the variable is not found.\n",
    "- `Div`: Performs division, raising a division error if the divisor is zero.\n",
    "\n",
    "We will also define a custom `Error` type to represent the various errors that can occur in our language, such as `TypeMismatchError` for mismatched types and `NoStatementError` for empty programs."
   ]
  },
  {
   "cell_type": "code",
   "execution_count": 11,
   "id": "f263aa83-658f-4cd5-9bf8-3dabce527615",
   "metadata": {},
   "outputs": [],
   "source": [
    ":r -- Clear everything we've defined before. We will use Grisette's safeDiv which works for symbolic integers.\n",
    "type VarId = T.Text\n",
    "\n",
    "data Expr\n",
    "  = I SymInteger\n",
    "  | B SymBool\n",
    "  | Var VarId\n",
    "  | Add (Union Expr) (Union Expr)\n",
    "  | Mul (Union Expr) (Union Expr)\n",
    "  | Div (Union Expr) (Union Expr)\n",
    "  | Eq (Union Expr) (Union Expr)\n",
    "  deriving (Show, Eq, Generic)\n",
    "  deriving (Mergeable, ExtractSym, EvalSym) via (Default Expr)\n",
    "\n",
    "data Error\n",
    "  = UndefinedVarError VarId\n",
    "  | TypeMismatchError\n",
    "  | DivisionError\n",
    "  | NoStatementError\n",
    "  deriving (Show, Eq, Generic)\n",
    "  deriving (Mergeable, SymEq) via (Default Error)\n",
    "\n",
    "data Value\n",
    "  = IValue SymInteger\n",
    "  | BValue SymBool\n",
    "  deriving (Show, Eq, Generic)\n",
    "  deriving (Mergeable, SymEq) via (Default Value)"
   ]
  },
  {
   "cell_type": "markdown",
   "id": "e59733c8-edf0-4fad-bf4f-b47d98c31649",
   "metadata": {},
   "source": [
    "To keep things simple, we'll only include assignment statements in our language.\n",
    "An assignment statement evaluates an expression and stores the result in the global environment.\n",
    "The program's overall result is determined by the value of the expression in the final assignment."
   ]
  },
  {
   "cell_type": "code",
   "execution_count": 12,
   "id": "b13c8346-ddd6-4304-bd8a-59b5b23e56d7",
   "metadata": {},
   "outputs": [],
   "source": [
    "data Stmt = Assign VarId (Union Expr)\n",
    "\n",
    "type Prog = [Stmt]"
   ]
  },
  {
   "attachments": {},
   "cell_type": "markdown",
   "id": "58076b39-5b67-4bb4-920a-de16c3c085f4",
   "metadata": {},
   "source": [
    "Next, we'll implement the semantics of our language by writing an interpreter. The first step is to define operations for querying and updating the environment, which we'll represent as an association list mapping (symbolic) variable IDs to (symbolic) values.\n",
    "\n",
    "To look up a variable in the environment, we compare the given variable ID to the IDs in the list, starting from the head. If we find a pair with a matching ID (under symbolic equivalence), we return the associated value. If no match is found after going through the entire list, we throw an `UndefinedVarError`.\n",
    "\n",
    "We'll use the `ExceptT Error` transformer to add error-throwing and handling capabilities to our `Union` monad. This provides us with `mrgThrowError` for throwing errors while still allowing multipath execution with `mrgIf`. (Remember that we always want to use the `mrg*` variants).\n",
    "\n",
    "There is also a call to `mrgLift`. It is a function that \"lifts\" a computation from a monad (like `Union Value`) into a transformed monad (like `ExceptT Error Union Value`)."
   ]
  },
  {
   "cell_type": "code",
   "execution_count": 13,
   "id": "c7e9a049-745b-4539-b6f0-716447fac79c",
   "metadata": {},
   "outputs": [
    {
     "data": {
      "text/plain": [
       "ExceptT {If (! (|| cond1 cond2)) (Left (UndefinedVarError \"a\")) (If cond1 (Right (IValue i)) (Right (BValue b)))}"
      ]
     },
     "metadata": {},
     "output_type": "display_data"
    }
   ],
   "source": [
    "type Env = [(Union VarId, Union Value)]\n",
    "\n",
    "getVar :: VarId -> Env -> ExceptT Error Union Value\n",
    "getVar varId [] = mrgThrowError $ UndefinedVarError varId\n",
    "getVar varId ((i,v):ivs) = mrgIf (return varId .== i) (mrgLift v) (getVar varId ivs)\n",
    "\n",
    "sampleEnv = [\n",
    "  (mrgIf \"cond1\" (return \"a\") (return \"b\"), mrgReturn $ IValue \"i\"),\n",
    "  (mrgIf \"cond2\" (return \"a\") (return \"b\"), mrgReturn $ BValue \"b\")\n",
    "  ]\n",
    "getVar \"a\" sampleEnv"
   ]
  },
  {
   "cell_type": "markdown",
   "id": "20ca33d7-0b3d-4d6c-bf00-d3fe77f4b2d8",
   "metadata": {},
   "source": [
    "To add a new binding to the environment, we simply prepend the variable ID and value pair to the association list:"
   ]
  },
  {
   "cell_type": "code",
   "execution_count": 14,
   "id": "7e325bf7-851e-4089-910b-2eedc7c550ba",
   "metadata": {
    "scrolled": true
   },
   "outputs": [
    {
     "data": {
      "text/plain": [
       "[({\"a\"},{IValue 1}),({If cond1 \"a\" \"b\"},{IValue i}),({If cond2 \"a\" \"b\"},{BValue b})]"
      ]
     },
     "metadata": {},
     "output_type": "display_data"
    }
   ],
   "source": [
    "setVar :: VarId -> Value -> Env -> Env\n",
    "setVar varId value = ((mrgReturn varId, mrgReturn value):)\n",
    "\n",
    "setVar \"a\" (IValue 1) sampleEnv"
   ]
  },
  {
   "cell_type": "markdown",
   "id": "b1704820-81fb-41f9-9819-40f5b50d8800",
   "metadata": {},
   "source": [
    "Our interpreter's execution context needs to keep track of both the environment state and any exceptions that might occur.\n",
    "We'll represent this using the `StateT` and `ExceptT` monad transformers:"
   ]
  },
  {
   "cell_type": "code",
   "execution_count": 15,
   "id": "4712b45c-9d33-46dd-a013-23d088a08281",
   "metadata": {},
   "outputs": [],
   "source": [
    "type Context = StateT Env (ExceptT Error Union)"
   ]
  },
  {
   "cell_type": "markdown",
   "id": "de524ade-989f-43ba-a6e8-0abbf09530d2",
   "metadata": {},
   "source": [
    "Here, we are using a new operation `mrgModifyError` because grisette's `safeDiv` uses `ArithException` as the exception type,and we want to transform that to our `Error` type.\n",
    "\n",
    "With the tools in place, we can define the evaluation logic:"
   ]
  },
  {
   "cell_type": "code",
   "execution_count": 16,
   "id": "033a6e20-e6a4-4dec-bc97-a75a382f6c96",
   "metadata": {},
   "outputs": [],
   "source": [
    "binOp :: Union Expr -> Union Expr -> ((Value, Value) -> Context Value) -> Context Value\n",
    "binOp l r f = do\n",
    "  el <- onUnion eval l\n",
    "  er <- eval .# r\n",
    "  f (el, er)\n",
    "\n",
    "eval :: Expr -> Context Value\n",
    "eval (I i) = mrgReturn $ IValue i\n",
    "eval (B b) = mrgReturn $ BValue b\n",
    "eval (Var varId) = do\n",
    "  env <- get\n",
    "  mrgLift $ getVar varId env\n",
    "eval (Add l r) = binOp l r $ \\case\n",
    "  (IValue il, IValue ir) -> mrgReturn $ IValue $ il + ir\n",
    "  _ -> mrgThrowError TypeMismatchError\n",
    "eval (Mul l r) = binOp l r $ \\case\n",
    "  (IValue il, IValue ir) -> mrgReturn $ IValue $ il * ir\n",
    "  _ -> mrgThrowError TypeMismatchError\n",
    "eval (Div l r) = binOp l r $ \\case\n",
    "  (IValue il, IValue ir) -> do\n",
    "    res <- mrgModifyError (\\(e :: ArithException) -> DivisionError) $ safeDiv il ir\n",
    "    mrgReturn $ IValue res\n",
    "  _ -> mrgThrowError TypeMismatchError\n",
    "eval (Eq l r) = binOp l r $ \\case\n",
    "  (IValue il, IValue ir) -> mrgReturn $ BValue $ il .== ir\n",
    "  (BValue il, BValue ir) -> mrgReturn $ BValue $ il .== ir\n",
    "  _ -> mrgThrowError TypeMismatchError"
   ]
  },
  {
   "cell_type": "markdown",
   "id": "64b59681-ad06-476d-8404-83b0add43e9a",
   "metadata": {},
   "source": [
    "Evaluating statements and programs is fairly straightforward (`mrgModify` modifies the state with a function):"
   ]
  },
  {
   "cell_type": "code",
   "execution_count": 17,
   "id": "7beec4e4-a2cb-4806-afc0-97cf10303ca9",
   "metadata": {},
   "outputs": [],
   "source": [
    "evalStmt :: Stmt -> Context Value\n",
    "evalStmt (Assign varId expr) = do\n",
    "  value <- eval .# expr\n",
    "  mrgModify $ setVar varId value\n",
    "  mrgReturn value\n",
    "\n",
    "evalProg :: Prog -> Context Value\n",
    "evalProg [] = mrgThrowError NoStatementError\n",
    "evalProg [s] = evalStmt s\n",
    "evalProg (s:ss) = do\n",
    "  evalStmt s\n",
    "  evalProg ss"
   ]
  },
  {
   "cell_type": "markdown",
   "id": "1b499f6e-2cf4-4a19-8827-db302d421dde",
   "metadata": {},
   "source": [
    "To make it easier to work with our language, let's define some helper functions for constructing `Union Expr` values.\n",
    "\n",
    "These functions can all be generated with template haskell by calling `mkMergeConstructor` at the top level:\n",
    "\n",
    "```haskell\n",
    "data Expr\n",
    "  = ...\n",
    "\n",
    "mkMergeConstructor \"mrg\" ''Expr\n",
    "```\n",
    "\n",
    "However, this isn't available in IHaskell environment, so we just write them down here."
   ]
  },
  {
   "cell_type": "code",
   "execution_count": 18,
   "id": "85969cc9-b3d1-4930-96c6-ec76ecd3f628",
   "metadata": {},
   "outputs": [],
   "source": [
    "mrgAdd :: (MonadUnion m) => Union Expr -> Union Expr -> m Expr\n",
    "mrgAdd l r = mrgReturn $ Add l r\n",
    "\n",
    "mrgMul :: (MonadUnion m) => Union Expr -> Union Expr -> m Expr\n",
    "mrgMul l r = mrgReturn $ Mul l r\n",
    "\n",
    "mrgDiv :: (MonadUnion m) => Union Expr -> Union Expr -> m Expr\n",
    "mrgDiv l r = mrgReturn $ Div l r\n",
    "\n",
    "mrgVar :: (MonadUnion m) => VarId -> m Expr\n",
    "mrgVar = mrgReturn . Var\n",
    "\n",
    "mrgI :: (MonadUnion m) => SymInteger -> m Expr\n",
    "mrgI = mrgReturn . I"
   ]
  },
  {
   "cell_type": "markdown",
   "id": "0a6320e9-2b15-4247-a680-e0cceaeade8b",
   "metadata": {},
   "source": [
    "To run a program, we need to provide an initial environment, which serves as the initial state for the `StateT` transformer:"
   ]
  },
  {
   "cell_type": "code",
   "execution_count": 19,
   "id": "286719e0-e49c-44e7-804d-07bfe7b2ff7b",
   "metadata": {},
   "outputs": [
    {
     "data": {
      "text/plain": [
       "ExceptT {Left NoStatementError}"
      ]
     },
     "metadata": {},
     "output_type": "display_data"
    },
    {
     "data": {
      "text/plain": [
       "ExceptT {Right (IValue (* 3 input))}"
      ]
     },
     "metadata": {},
     "output_type": "display_data"
    },
    {
     "data": {
      "text/plain": [
       "ExceptT {If (= input 0) (Left DivisionError) (Right (IValue (div b input)))}"
      ]
     },
     "metadata": {},
     "output_type": "display_data"
    },
    {
     "data": {
      "text/plain": [
       "ExceptT {Left (UndefinedVarError \"input\")}"
      ]
     },
     "metadata": {},
     "output_type": "display_data"
    }
   ],
   "source": [
    "runProg :: Env -> Prog -> ExceptT Error Union Value\n",
    "runProg env prog = flip mrgEvalStateT env $ evalProg prog\n",
    "\n",
    "runProg [(mrgReturn \"input\", mrgReturn $ IValue \"input\")] []\n",
    "\n",
    "runProg [(mrgReturn \"input\", mrgReturn $ IValue \"input\")] [\n",
    "  Assign \"a\" (mrgI 1),\n",
    "  Assign \"b\" (mrgAdd (mrgVar \"a\") (mrgI 2)),\n",
    "  Assign \"c\" (mrgMul (mrgVar \"b\") (mrgVar \"input\"))\n",
    "  ]\n",
    "\n",
    "runProg [(mrgReturn \"input\", mrgReturn $ IValue \"input\")] [\n",
    "  Assign \"res\" (mrgDiv (mrgI \"b\") (mrgVar \"input\"))\n",
    "  ]\n",
    "\n",
    "runProg [] [\n",
    "  Assign \"res\" (mrgDiv (mrgI \"b\") (mrgVar \"input\"))\n",
    "  ]"
   ]
  },
  {
   "cell_type": "markdown",
   "id": "34dc1737-1f15-41ed-b934-dac95607e1a2",
   "metadata": {},
   "source": [
    "One of the benefits of using a custom error type is that we can leverage the solver to find inputs that trigger specific exceptions. This is a common use case for symbolic execution, and Grisette makes it easy to define custom error types and create predicates over errors and values.\n",
    "\n",
    "In the following example, we attempt to find an input `x` that causes a division error. We do this by converting the `ExceptT` result into a symbolic boolean formula, where `DivisionError` is mapped to `True`, and all other outcomes are mapped to `False`. The `simpleMerge` here converts a `Union SymBool` to `SymBool`. This instructs the solver to search for inputs that lead to a `DivisionError`."
   ]
  },
  {
   "cell_type": "code",
   "execution_count": 20,
   "id": "79f8bd09-0205-4948-891c-1cb0ac5eeacd",
   "metadata": {},
   "outputs": [
    {
     "data": {
      "text/plain": [
       "Right (Model {x -> -1 :: Integer})"
      ]
     },
     "metadata": {},
     "output_type": "display_data"
    }
   ],
   "source": [
    "prog :: Prog\n",
    "prog = [\n",
    "  Assign \"a\" (mrgAdd (mrgI 1) (mrgI \"x\")),\n",
    "  Assign \"res\" (mrgDiv (mrgI \"b\") (mrgVar \"a\"))\n",
    "  ]\n",
    "\n",
    "solve (precise z3) $ simpleMerge $ do\n",
    "  res <- runExceptT $ runProg [] prog\n",
    "  case res of\n",
    "    Left DivisionError -> mrgReturn $ con True\n",
    "    _ -> mrgReturn $ con False"
   ]
  },
  {
   "cell_type": "markdown",
   "id": "2f07cee4-d969-4681-ae7b-7e16841a51d6",
   "metadata": {},
   "source": [
    "Grisette provides a function called `solveExcept` that allows us to specify a predicate over the result of an `ExceptT` computation. The predicate should return symbolic `True` for the outcomes we're interested in and `False` for all other outcomes. `solveExcept` then uses the solver to find inputs that satisfy the predicate.\n",
    "\n",
    "In the following example, we attempt to find an input `x` that causes a division error. We define a predicate that maps `DivisionError` to `True`, and all other outcomes to `False`. We then pass this predicate to `solveExcept`, along with our program and the desired solver (in this case, Z3). The solver will be able to conclude that our program will never yield an `DivisionError`."
   ]
  },
  {
   "cell_type": "code",
   "execution_count": 21,
   "id": "8efe03fd-828c-4408-af4c-0b118716f269",
   "metadata": {},
   "outputs": [
    {
     "data": {
      "text/plain": [
       "Left Unsat"
      ]
     },
     "metadata": {},
     "output_type": "display_data"
    }
   ],
   "source": [
    "expectedPath :: Either Error a -> SymBool\n",
    "expectedPath (Left DivisionError) = con True\n",
    "expectedPath _ = con False\n",
    "\n",
    "prog1 :: Prog\n",
    "prog1 = [\n",
    "  Assign \"a\" (mrgAdd (mrgI 1) (mrgMul (mrgI \"x\") (mrgI \"x\"))),\n",
    "  Assign \"res\" (mrgDiv (mrgI \"b\") (mrgVar \"a\"))\n",
    "  ]\n",
    "\n",
    "solveExcept (precise z3) expectedPath $ runProg [] prog1"
   ]
  },
  {
   "cell_type": "markdown",
   "id": "61fc0782-c65d-427b-9cfb-ead7ab900060",
   "metadata": {},
   "source": [
    "## Conclusion\n",
    "\n",
    "In this tutorial, we've explored how to handle failure paths and stateful computations using monads and monad transformers in Grisette.\n",
    "We learned how to use `Either` and `ExceptT` to represent and handle errors, and `State` and `StateT` to model stateful computations.\n",
    "\n",
    "We extended our expression reasoning tool to support a more expressive language with variables, division, and assignment statements,\n",
    "using monad transformers to combine error handling and state management in a modular and composable way.\n",
    "\n",
    "Finally, we leveraged Grisette's `solveExcept` function to find inputs that trigger specific exceptions or satisfy predicates over the program's result,\n",
    "enabling us to test and verify the correctness of our programs.\n",
    "\n",
    "By mastering these techniques, you can create more expressive and verifiable languages using Grisette,\n",
    "and effectively handle errors and state in your solver-aided applications. With the power of monads, monad transformers, and symbolic execution,\n",
    "you can tackle complex problems and build reliable, correct software systems."
   ]
  }
 ],
 "metadata": {
  "kernelspec": {
   "display_name": "Haskell",
   "language": "haskell",
   "name": "haskell"
  },
  "language_info": {
   "codemirror_mode": "ihaskell",
   "file_extension": ".hs",
   "mimetype": "text/x-haskell",
   "name": "haskell",
   "pygments_lexer": "Haskell",
   "version": "9.6.5"
  }
 },
 "nbformat": 4,
 "nbformat_minor": 5
}
