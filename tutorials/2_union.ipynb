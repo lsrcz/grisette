{
 "cells": [
  {
   "cell_type": "code",
   "execution_count": 1,
   "id": "46b53581-5285-459b-a189-05dfcec0be04",
   "metadata": {},
   "outputs": [],
   "source": [
    "{-# LANGUAGE OverloadedStrings #-}\n",
    "{-# LANGUAGE DeriveGeneric #-}\n",
    "{-# LANGUAGE StandaloneDeriving #-}\n",
    "{-# LANGUAGE DerivingVia #-}\n",
    "{-# LANGUAGE GADTs #-}\n",
    "{-# LANGUAGE LambdaCase #-}\n",
    "import GHC.Generics\n",
    "import Grisette"
   ]
  },
  {
   "cell_type": "markdown",
   "id": "972b34ad-eaca-413f-b3c0-17bb61a665cb",
   "metadata": {},
   "source": [
    "# UnionM and Custom Data Types"
   ]
  },
  {
   "cell_type": "markdown",
   "id": "d489e1c8-b532-458f-b00f-698838a51124",
   "metadata": {},
   "source": [
    "## Introduction\n",
    "\n",
    "In the [previous tutorial](./1_symbolic_type.ipynb), we discussed the basic usage of Grisette with symbolic types.\n",
    "In this tutorial, we will discuss how to write complex programs and use data abstractions that seamlessly integrate with the Grisette system.\n",
    "\n",
    "In this tutorial, you will learn how to:\n",
    "- Utilize the `UnionM` monadic container for representing choices and path conditions\n",
    "- Understand path merging and its importance for efficient symbolic execution\n",
    "- Work with user-defined data types in Grisette\n",
    "- Build a program synthesizer using CounterExample-Guided Inductive Synthesis (CEGIS)\n",
    "\n",
    "By the end of this tutorial, you will have a solid understanding of how to leverage Grisette's features to build sophisticated solver-aided applications."
   ]
  },
  {
   "cell_type": "markdown",
   "id": "3a9c85f2-eff9-4e3e-87c6-60ea0742a7e5",
   "metadata": {},
   "source": [
    "## UnionM Monadic Container\n",
    "\n",
    "At the core of Grisette lies the `UnionM` monadic container. `UnionM` is used to represent choices and path conditions in a program. It allows you to wrap values and introduce branches based on symbolic conditions. The `UnionM` helps us integrate user-defined data types into the Grisette system.\n",
    "\n",
    "To wrap a value in `UnionM`, with a path condition that is always true, you can use the `mrgReturn` function:"
   ]
  },
  {
   "cell_type": "code",
   "execution_count": 2,
   "id": "bc40c2b1-a2b8-438b-a945-5523628982ff",
   "metadata": {},
   "outputs": [
    {
     "data": {
      "text/plain": [
       "{(1,a)}"
      ]
     },
     "metadata": {},
     "output_type": "display_data"
    },
    {
     "data": {
      "text/plain": [
       "{Left 10}"
      ]
     },
     "metadata": {},
     "output_type": "display_data"
    }
   ],
   "source": [
    "mrgReturn (1, \"a\") :: UnionM (SymInteger, SymBool)\n",
    "mrgReturn (Left 10) :: UnionM (Either Integer SymBool)"
   ]
  },
  {
   "cell_type": "markdown",
   "id": "a4dc8423-919f-45d9-8031-d2c63311c58f",
   "metadata": {},
   "source": [
    "The `mrgReturn` function takes a value and wraps it in the `UnionM` container. It is similar to the `return` function in the standard `Monad` type class, but it also handles the merging of values, which we will discuss later.\n",
    "\n",
    "To introduce path conditions, you can use the `mrgIf` function:"
   ]
  },
  {
   "cell_type": "code",
   "execution_count": 3,
   "id": "22300abe-7680-4156-acaa-01acc0282ff4",
   "metadata": {},
   "outputs": [
    {
     "data": {
      "text/plain": [
       "{If cond [a1] [a2,a3]}"
      ]
     },
     "metadata": {},
     "output_type": "display_data"
    }
   ],
   "source": [
    "unionList :: UnionM [SymInteger]\n",
    "unionList = mrgIf \"cond\" (mrgReturn [\"a1\"]) (mrgReturn [\"a2\", \"a3\"])\n",
    "unionList"
   ]
  },
  {
   "cell_type": "markdown",
   "id": "56254dde-dbca-487b-81ee-7c4870ad0b8a",
   "metadata": {},
   "source": [
    "In this example, `unionList` represent a choice between two lists of symbolic integers, depending on the value of the symbolic condition `cond`. If `cond` is true, the value of `unionList` will be `[a1]`, and if `cond` is false, the value will be `[a2,a3]`."
   ]
  },
  {
   "cell_type": "code",
   "execution_count": 4,
   "id": "f1385b91-965d-4a11-a933-11ccf17e9b0e",
   "metadata": {},
   "outputs": [
    {
     "data": {
      "text/plain": [
       "{[1]}"
      ]
     },
     "metadata": {},
     "output_type": "display_data"
    },
    {
     "data": {
      "text/plain": [
       "{[1,a3]}"
      ]
     },
     "metadata": {},
     "output_type": "display_data"
    }
   ],
   "source": [
    "evaluateSym False (buildModel (\"cond\" ::= True, \"a1\" ::= (1 :: Integer))) unionList\n",
    "evaluateSym False (buildModel (\"cond\" ::= False, \"a2\" ::= (1 :: Integer))) unionList"
   ]
  },
  {
   "cell_type": "markdown",
   "id": "eeb39248-8f3e-499b-8982-079b864b53a9",
   "metadata": {},
   "source": [
    "Conceptually, a `UnionM` value represents an if-then-else tree, where each branch is associated with a path condition. The structure of the `unionList` can be visualized as follows:\n",
    "\n",
    "```text\n",
    "unionList:\n",
    "            +------+\n",
    "            | cond |\n",
    "            +------+\n",
    "       cond /      \\ !cond\n",
    "           /        \\\n",
    "       +------+ +---------+\n",
    "       | [a1] | | [a2,a3] |\n",
    "       +------+ +---------+\n",
    "```"
   ]
  },
  {
   "cell_type": "markdown",
   "id": "cf05579b-4d73-4ffa-856e-ea9ee6e49133",
   "metadata": {},
   "source": [
    "When working with `UnionM`, you can use the standard monadic operations, such as `>>=` (bind), or the `do`-notation syntactic sugar, to chain computations and manipulate the values inside the container. For example:"
   ]
  },
  {
   "cell_type": "code",
   "execution_count": 5,
   "id": "80fb3bca-12ce-4ea1-8d23-48a04410d3cd",
   "metadata": {},
   "outputs": [
    {
     "data": {
      "text/plain": [
       "{If cond [1,a1] [1,a2,a3]}"
      ]
     },
     "metadata": {},
     "output_type": "display_data"
    }
   ],
   "source": [
    "do l <- unionList\n",
    "   mrgReturn $ 1 : l"
   ]
  },
  {
   "cell_type": "markdown",
   "id": "8de9e64d-6b6f-4534-9eac-a3c91a50eb40",
   "metadata": {},
   "source": [
    "In this example, we use the `do` notation to bind the value of `unionList` to the variable `l`, then in each branch, we prepend `1` to the list."
   ]
  },
  {
   "cell_type": "markdown",
   "id": "e9ca4e2e-2064-4af2-9272-2e7a7a649309",
   "metadata": {},
   "source": [
    "### Monads and UnionM\n",
    "\n",
    "For those not familiar with monads, a monad is a typeclass that defines two operations: `return` and `bind` (`>>=` in Haskell). In the context of `UnionM`:\n",
    "\n",
    "`return` wraps a value in the `UnionM` container. Conceptually, it transforms a single value into a `UnionM` value with a true path condition.\n",
    "\n",
    "```text\n",
    "a:\n",
    "        a\n",
    "\n",
    "return a:\n",
    "    +-------+\n",
    "    |   a   |\n",
    "    +-------+\n",
    "```\n",
    "\n",
    "`bind` allows you to chain operations on `UnionM` values, effectively splitting the execution paths based on the path conditions. It takes a `UnionM a` value and a function `a -> UnionM b`, and returns a `UnionM b` value. Conceptually, it applies the function to each branch of the input `UnionM` value, potentially introducing new branches.\n",
    "\n",
    "In Haskell, the `do` notation is a syntactic sugar for the `bind` and `return` operations. It allows you to write monadic code in a more imperative style, making it easier to read and understand.\n",
    "\n",
    "For example, the following code using do notation:\n",
    "\n",
    "```haskell\n",
    "do l1 <- mrgIf \"cond\" (return [\"a\"]) (return [\"b\",\"c\"])\n",
    "   mrgIf \"cond2\" (return $ \"d\" : l1) (return $ \"e\" : l1) :: UnionM [SymInteger]\n",
    "```\n",
    "\n",
    "is a syntactic sugar for\n",
    "\n",
    "```haskell\n",
    "bind\n",
    "  (mrgIf \"cond\" (return [\"a\"]) (return [\"b\",\"c\"]))\n",
    "  (\\l1 -> mrgIf \"cond2\" (return $ \"d\" : l1) (return $ \"e\" : l1))\n",
    "```\n",
    "\n",
    "In the `do` notation, the left arrow `<-` is used to bind the result of a monadic computation to a variable, which can be used in subsequent computations. The evaluation of the code example could be understood as follows:\n",
    "\n",
    "```text\n",
    "Step 1 (l1):\n",
    "      +------+\n",
    "      | cond |\n",
    "      +------+\n",
    "       /    \\\n",
    "      /      \\\n",
    "  +-----+ +-------+\n",
    "  | [a] | | [b,c] |\n",
    "  +-----+ +-------+\n",
    "Step 2 (apply function in the leaves):\n",
    "                    +------+\n",
    "                    | cond |\n",
    "                    +------+\n",
    "                     /    \\\n",
    "               +----+      +-----+\n",
    "              /                   \\\n",
    "         +-------+             +-------+       \n",
    "         | cond2 |             | cond2 |       \n",
    "         +-------+             +-------+       \n",
    "           /   \\                /     \\        \n",
    "          /     \\              /       \\       \n",
    "    +-------+ +-------+ +---------+ +---------+\n",
    "    | [d,a] | | [e,a] | | [d,b,c] | | [e,b,c] |\n",
    "    +-------+ +-------+ +---------+ +---------+\n",
    "Step 3 (merge, preview for the next section):\n",
    "                    +------+\n",
    "                    | cond |\n",
    "                    +------+\n",
    "                     /    \\\n",
    "              +-----+      +-----+\n",
    "             /                    \\\n",
    "+---------------------+ +-----------------------+   \n",
    "| [(ite cond2 d e),a] | | [(ite cond2 d e),b,c] |  \n",
    "+---------------------+ +-----------------------+   \n",
    "```"
   ]
  },
  {
   "cell_type": "code",
   "execution_count": 6,
   "id": "2eae5d6a-c7b6-49bd-8bdc-9a04b307942f",
   "metadata": {},
   "outputs": [
    {
     "data": {
      "text/plain": [
       "{If cond [(ite cond2 d e),a] [(ite cond2 d e),b,c]}"
      ]
     },
     "metadata": {},
     "output_type": "display_data"
    }
   ],
   "source": [
    "do l1 <- mrgIf \"cond\" (return [\"a\"]) (return [\"b\",\"c\"])\n",
    "   mrgIf \"cond2\" (return $ \"d\" : l1) (return $ \"e\" : l1) :: UnionM [SymInteger]"
   ]
  },
  {
   "cell_type": "markdown",
   "id": "33e5231d-4503-4df7-9330-259fce17e963",
   "metadata": {},
   "source": [
    "## Path Merging\n",
    "\n",
    "Path explosion is a common problem in symbolic execution, where the number of paths grows exponentially with the number of branching conditions. This can lead to poor performance and scalability issues when dealing with complex programs.\n",
    "\n",
    "To understand the path explosion problem, consider the following example:\n",
    "\n",
    "```haskell\n",
    "union = do\n",
    "  a <- union1\n",
    "  b <- union2\n",
    "  c <- union3\n",
    "  return (a, b, c)\n",
    "\n",
    "furtherCode = do\n",
    "  v <- union\n",
    "  return $ g v\n",
    "```\n",
    "\n",
    "In this code, `union1`, `union2`, and `union3` are assumed to be `UnionM` values representing choices, and `furtherCode` applies another function `g` to the result of `union`.\n",
    "\n",
    "If each of `union1`, `union2`, and `union3` has 2 branches, the total number of paths in `union` will be 2^3 = 8. This means that the function `g` will be executed 8 times, once for each possible combination of choices.\n",
    "\n",
    "This path explosion problem can quickly become intractable as the number of branches and depth of the computation increase.\n",
    "\n",
    "Grisette addresses this problem through path merging.\n",
    "Instead of exploring each path separately, Grisette merges the paths and represents the result as a symbolic expression.\n",
    "This allows for efficient symbolic execution without the need to explicitly enumerate all possible paths.\n",
    "\n",
    "To enable path merging, you should use the `mrgReturn` function instead of the vanilla return function.\n",
    "Grisette will then merge the branches when possible in the result."
   ]
  },
  {
   "cell_type": "code",
   "execution_count": 7,
   "id": "72f9df36-8daa-4773-87fe-5891a9b45e0c",
   "metadata": {},
   "outputs": [
    {
     "data": {
      "text/plain": [
       "{(ite cond a1 (+ a2 a3))}"
      ]
     },
     "metadata": {},
     "output_type": "display_data"
    }
   ],
   "source": [
    "do l <- unionList\n",
    "   mrgReturn $ sum l"
   ]
  },
  {
   "cell_type": "markdown",
   "id": "5f1b9e88-93ce-48c4-a780-014258700ff5",
   "metadata": {},
   "source": [
    "In the example, the sum from the two branches has the `SymInteger` type, which could be merged together with the SMT `ite` operator.\n",
    "The `mrgReturn` function is the key to merging in Grisette.\n",
    "If we use the vanilla `return` function or `fmap` function, the result will instead have two branches and will not be merged.\n",
    "The angle brackets indicate that the result isn't merged."
   ]
  },
  {
   "cell_type": "code",
   "execution_count": 8,
   "id": "0e35c1d4-9d57-42a7-b76e-9bc904c373ab",
   "metadata": {},
   "outputs": [
    {
     "data": {
      "text/plain": [
       "<If cond a1 (+ a2 a3)>"
      ]
     },
     "metadata": {},
     "output_type": "display_data"
    }
   ],
   "source": [
    "sum <$> unionList"
   ]
  },
  {
   "cell_type": "markdown",
   "id": "350ee4cd-9f30-4f1d-abad-f28ed15cd0b7",
   "metadata": {},
   "source": [
    "Let's examine the type signatures of `return` and `mrgReturn`."
   ]
  },
  {
   "cell_type": "code",
   "execution_count": 9,
   "id": "1b96410a-87c1-4437-8533-d191b8b3910b",
   "metadata": {},
   "outputs": [
    {
     "data": {
      "text/html": [
       "<style>/* Styles used for the Hoogle display in the pager */\n",
       ".hoogle-doc {\n",
       "display: block;\n",
       "padding-bottom: 1.3em;\n",
       "padding-left: 0.4em;\n",
       "}\n",
       ".hoogle-code {\n",
       "display: block;\n",
       "font-family: monospace;\n",
       "white-space: pre;\n",
       "}\n",
       ".hoogle-text {\n",
       "display: block;\n",
       "}\n",
       ".hoogle-name {\n",
       "color: green;\n",
       "font-weight: bold;\n",
       "}\n",
       ".hoogle-head {\n",
       "font-weight: bold;\n",
       "}\n",
       ".hoogle-sub {\n",
       "display: block;\n",
       "margin-left: 0.4em;\n",
       "}\n",
       ".hoogle-package {\n",
       "font-weight: bold;\n",
       "font-style: italic;\n",
       "}\n",
       ".hoogle-module {\n",
       "font-weight: bold;\n",
       "}\n",
       ".hoogle-class {\n",
       "font-weight: bold;\n",
       "}\n",
       "\n",
       ".get-type {\n",
       "color: green;\n",
       "font-weight: bold;\n",
       "font-family: monospace;\n",
       "display: block;\n",
       "white-space: pre-wrap;\n",
       "}\n",
       ".show-type {\n",
       "color: green;\n",
       "font-weight: bold;\n",
       "font-family: monospace;\n",
       "margin-left: 1em;\n",
       "}\n",
       ".mono {\n",
       "font-family: monospace;\n",
       "display: block;\n",
       "}\n",
       ".err-msg {\n",
       "color: red;\n",
       "font-style: italic;\n",
       "font-family: monospace;\n",
       "white-space: pre;\n",
       "display: block;\n",
       "}\n",
       "#unshowable {\n",
       "color: red;\n",
       "font-weight: bold;\n",
       "}\n",
       ".err-msg.in.collapse {\n",
       "padding-top: 0.7em;\n",
       "}\n",
       "\n",
       ".highlight-code {\n",
       "white-space: pre;\n",
       "font-family: monospace;\n",
       "}\n",
       "\n",
       ".suggestion-warning { \n",
       "font-weight: bold;\n",
       "color: rgb(200, 130, 0);\n",
       "}\n",
       ".suggestion-error { \n",
       "font-weight: bold;\n",
       "color: red;\n",
       "}\n",
       ".suggestion-name {\n",
       "font-weight: bold;\n",
       "}\n",
       "\n",
       "</style><span class='get-type'>return :: forall (m :: * -> *) a. Monad m => a -> m a</span>"
      ],
      "text/plain": [
       "return :: forall (m :: * -> *) a. Monad m => a -> m a"
      ]
     },
     "metadata": {},
     "output_type": "display_data"
    },
    {
     "data": {
      "text/html": [
       "<style>/* Styles used for the Hoogle display in the pager */\n",
       ".hoogle-doc {\n",
       "display: block;\n",
       "padding-bottom: 1.3em;\n",
       "padding-left: 0.4em;\n",
       "}\n",
       ".hoogle-code {\n",
       "display: block;\n",
       "font-family: monospace;\n",
       "white-space: pre;\n",
       "}\n",
       ".hoogle-text {\n",
       "display: block;\n",
       "}\n",
       ".hoogle-name {\n",
       "color: green;\n",
       "font-weight: bold;\n",
       "}\n",
       ".hoogle-head {\n",
       "font-weight: bold;\n",
       "}\n",
       ".hoogle-sub {\n",
       "display: block;\n",
       "margin-left: 0.4em;\n",
       "}\n",
       ".hoogle-package {\n",
       "font-weight: bold;\n",
       "font-style: italic;\n",
       "}\n",
       ".hoogle-module {\n",
       "font-weight: bold;\n",
       "}\n",
       ".hoogle-class {\n",
       "font-weight: bold;\n",
       "}\n",
       "\n",
       ".get-type {\n",
       "color: green;\n",
       "font-weight: bold;\n",
       "font-family: monospace;\n",
       "display: block;\n",
       "white-space: pre-wrap;\n",
       "}\n",
       ".show-type {\n",
       "color: green;\n",
       "font-weight: bold;\n",
       "font-family: monospace;\n",
       "margin-left: 1em;\n",
       "}\n",
       ".mono {\n",
       "font-family: monospace;\n",
       "display: block;\n",
       "}\n",
       ".err-msg {\n",
       "color: red;\n",
       "font-style: italic;\n",
       "font-family: monospace;\n",
       "white-space: pre;\n",
       "display: block;\n",
       "}\n",
       "#unshowable {\n",
       "color: red;\n",
       "font-weight: bold;\n",
       "}\n",
       ".err-msg.in.collapse {\n",
       "padding-top: 0.7em;\n",
       "}\n",
       "\n",
       ".highlight-code {\n",
       "white-space: pre;\n",
       "font-family: monospace;\n",
       "}\n",
       "\n",
       ".suggestion-warning { \n",
       "font-weight: bold;\n",
       "color: rgb(200, 130, 0);\n",
       "}\n",
       ".suggestion-error { \n",
       "font-weight: bold;\n",
       "color: red;\n",
       "}\n",
       ".suggestion-name {\n",
       "font-weight: bold;\n",
       "}\n",
       "\n",
       "</style><span class='get-type'>mrgReturn :: forall (u :: * -> *) a. (MonadTryMerge u, Mergeable a) => a -> u a</span>"
      ],
      "text/plain": [
       "mrgReturn :: forall (u :: * -> *) a. (MonadTryMerge u, Mergeable a) => a -> u a"
      ]
     },
     "metadata": {},
     "output_type": "display_data"
    }
   ],
   "source": [
    ":t return\n",
    ":t mrgReturn"
   ]
  },
  {
   "attachments": {},
   "cell_type": "markdown",
   "id": "65815be5-eb03-46c9-a594-e0afb83f9b98",
   "metadata": {},
   "source": [
    "The `return` function has a simple type signature.\n",
    "It takes a value of type `a` and wraps it in a monadic context `m`.\n",
    "\n",
    "On the other hand, `mrgReturn` has additional constraints.\n",
    "It requires the value to be an instance of the `Mergeable` type class, and the monad `m` to be an instance of the `MonadTryMerge` type class.\n",
    "\n",
    "The `Mergeable` type class defines the merging strategy for different types. By deriving instances of `Mergeable` for your custom types, you can enable path merging and avoid the path explosion problem.\n",
    "\n",
    "The `MonadTryMerge` type class is used to control the merging behavior of the monad. Those monads capable of merging will cache the merging strategy when calling `mrgReturn`. This will be used to merge the results of the whole `do`-block.\n",
    "\n",
    "It's okay that you don't understand everything here.\n",
    "The key takeaway is to always use `mrgReturn` instead of `return`, unless you know what you are doing and want to manually control where to merge the values.\n",
    "We also provide `mrg*` (or sometimes, named `sym*`) variants for many combinators from GHC's base library, including those working with `Monad`, `Applicative`, `Functor`, `Foldable`, `Traversable` and lists.\n",
    "You may want to check out the documentation."
   ]
  },
  {
   "cell_type": "code",
   "execution_count": 10,
   "id": "eece5918-d855-4720-9337-248bcec7967c",
   "metadata": {},
   "outputs": [
    {
     "data": {
      "text/plain": [
       "<1>"
      ]
     },
     "metadata": {},
     "output_type": "display_data"
    },
    {
     "data": {
      "text/plain": [
       "{1}"
      ]
     },
     "metadata": {},
     "output_type": "display_data"
    }
   ],
   "source": [
    "return 1 :: UnionM Int\n",
    "mrgReturn 1 :: UnionM Int"
   ]
  },
  {
   "cell_type": "markdown",
   "id": "df360860-3407-4427-8438-1fcbf6ef4910",
   "metadata": {},
   "source": [
    "## Deriving Mergeable Instance\n",
    "\n",
    "Different types have different merging strategies. For example, for the type `[SymInteger]`, the Grisette system will try to merge lists with the same lengths, while for the type `Either Integer SymBool`, left values will be merged if they are exactly the same, while right values will always be merged.\n",
    "\n",
    "(It is okay to use `return` here because the `mrgIf` will handle the merging)"
   ]
  },
  {
   "cell_type": "code",
   "execution_count": 11,
   "id": "025ec5d8-f77f-4465-8662-d0efc0a89fd6",
   "metadata": {},
   "outputs": [
    {
     "data": {
      "text/plain": [
       "{[(ite cond a c),(ite cond b d)]}"
      ]
     },
     "metadata": {},
     "output_type": "display_data"
    },
    {
     "data": {
      "text/plain": [
       "{If cond (Left 1) (Left 2)}"
      ]
     },
     "metadata": {},
     "output_type": "display_data"
    },
    {
     "data": {
      "text/plain": [
       "{Left 1}"
      ]
     },
     "metadata": {},
     "output_type": "display_data"
    },
    {
     "data": {
      "text/plain": [
       "{If cond (Left 1) (Right x)}"
      ]
     },
     "metadata": {},
     "output_type": "display_data"
    },
    {
     "data": {
      "text/plain": [
       "{Right (ite cond x y)}"
      ]
     },
     "metadata": {},
     "output_type": "display_data"
    }
   ],
   "source": [
    "mrgIf \"cond\" (return [\"a\",\"b\"]) (return [\"c\",\"d\"]) :: UnionM [SymInteger]\n",
    "mrgIf \"cond\" (return $ Left 1) (return $ Left 2) :: UnionM (Either Integer SymBool)\n",
    "mrgIf \"cond\" (return $ Left 1) (return $ Left 1) :: UnionM (Either Integer SymBool)\n",
    "mrgIf \"cond\" (return $ Left 1) (return $ Right \"x\") :: UnionM (Either Integer SymBool)\n",
    "mrgIf \"cond\" (return $ Right \"x\") (return $ Right \"y\") :: UnionM (Either Integer SymBool)"
   ]
  },
  {
   "cell_type": "markdown",
   "id": "05b65c0e-5865-4889-92a6-178419d1d9e7",
   "metadata": {},
   "source": [
    "As we mentioned earlier, merging is controlled by the `Mergeable` type class. This means that we can define `Mergeable` instances for our custom types to make them compatible with Grisette.\n",
    "\n",
    "Defining a merging strategy is beyond the scope of this tutorial, but we have provided a default instance for non-GADT data types, which you can access using `DerivingVia` with a `Generic` instance. Automatic deriving instances for GADTs will require `TemplateHaskell`, and we may provide this in a future release."
   ]
  },
  {
   "cell_type": "code",
   "execution_count": 12,
   "id": "5cd5cf90-4491-4750-9b4c-987b1873266b",
   "metadata": {},
   "outputs": [
    {
     "data": {
      "text/plain": [
       "{If (|| cond (! cond2)) (X 1 (ite cond a c)) (X 2 b)}"
      ]
     },
     "metadata": {},
     "output_type": "display_data"
    }
   ],
   "source": [
    "data A = X Int SymBool | Y SymInteger\n",
    "  deriving (Show, Generic)\n",
    "  deriving (Mergeable) via (Default A)\n",
    "\n",
    "mrgIf \"cond\" (return $ X 1 \"a\") (mrgIf \"cond2\" (return $ X 2 \"b\") (return $ X 1 \"c\")) :: UnionM A"
   ]
  },
  {
   "cell_type": "markdown",
   "id": "c61fc9b0-ad81-4def-b219-2bf691d32de0",
   "metadata": {},
   "source": [
    "Note that a similar mechanism is provided for most of the type classes to make the types fully compatible with Grisette."
   ]
  },
  {
   "cell_type": "code",
   "execution_count": 13,
   "id": "bf6b6848-8211-469c-b04e-597c7b22fd55",
   "metadata": {},
   "outputs": [
    {
     "data": {
      "text/plain": [
       "X 1 true"
      ]
     },
     "metadata": {},
     "output_type": "display_data"
    }
   ],
   "source": [
    "deriving via (Default A) instance (EvaluateSym A)\n",
    "evaluateSym False (buildModel (\"a\" ::= True)) $ X 1 \"a\""
   ]
  },
  {
   "cell_type": "markdown",
   "id": "9079365a-aca6-49bb-ab2a-e1426ae50083",
   "metadata": {},
   "source": [
    "## A Rewriting Rule Synthesizer\n",
    "\n",
    "### Overview\n",
    "Let's extend the expression equivalence verifier to build a simple rewriting rule synthesizer. The goal is to find an alternative expression that implements the same functionality as the original expression.\n",
    "\n",
    "We introduce the concept of *program sketches* and *holes*. A *program sketch* represents a *program space* with *holes* that can be instantiated to generate different expressions. *Holes* serve as placeholders for constants. A synthesizer then searches the program space by searching for an instantiation of the holes.\n",
    "\n",
    "For example, consider the following program sketch for our problem:\n",
    "\n",
    "```haskell\n",
    "(If hole1 (Add x hole2) (Mul x hole3)\n",
    "```\n",
    "\n",
    "This program sketch represents a program space that includes, but not limited to, the following programs:\n",
    "\n",
    "- `x + 1` (with `hole1` to be true and `hole2` to be 1)\n",
    "- `x + 2` (with `hole1` to be true and `hole2` to be 2)\n",
    "- `x * 3` (with `hole1` to be false and `hole3` to be 3)\n",
    "\n",
    "Our synthesis goal can be formulated as the following formula:\n",
    "\n",
    "$p_1 = \\exists~\\mathrm{hole}\\in \\mathrm{consts}(e_\\mathrm{sketch})\\setminus \\mathrm{consts}(e_\\mathrm{orig}). \\forall~\\mathrm{var}\\in e_\\mathrm{orig}. \\mathrm{eval}(e_\\mathrm{orig}) = \\mathrm{eval}(e_\\mathrm{sketch})$\n",
    "\n",
    "Note that all symbolic constants already present in the original expression are not treated as holes, and our synthesized expression should have the same semantics as the original expression, regardless of the values assigned to these variables.\n",
    "\n",
    "If you are using Grisette to build a program synthesizer, you may want to check out https://github.com/lsrcz/grisette-synth-lib, which provides more efficient encoding and an easier-to-use interface focused on synthesis.\n",
    "\n",
    "### The DSL\n",
    "\n",
    "To represent a program sketch, we need to extend our expression type. We modify the operands of `Add`, `Mul` and `Eq` to `UnionM Expr` to represent a choice among multiple programs. In this tutorial, we will not use GADTs, as we want to simply derive the necessary instances for the type."
   ]
  },
  {
   "cell_type": "code",
   "execution_count": 14,
   "id": "a94c0cdf-e881-4610-8a4a-5ed7e04ff818",
   "metadata": {},
   "outputs": [],
   "source": [
    "data Expr\n",
    "  = I SymInteger\n",
    "  | B SymBool\n",
    "  | Add (UnionM Expr) (UnionM Expr)\n",
    "  | Mul (UnionM Expr) (UnionM Expr)\n",
    "  | Eq (UnionM Expr) (UnionM Expr)\n",
    "  deriving (Show, Eq, Generic)\n",
    "  deriving (Mergeable, ExtractSymbolics, EvaluateSym) via (Default Expr)"
   ]
  },
  {
   "cell_type": "markdown",
   "id": "96650306-345b-4a25-b12d-017d5fd6bc1c",
   "metadata": {},
   "source": [
    "Additionally, we introduce a sum type `Value` to represent all possible evaluation results.\n",
    "The evaluation result can be a symbolic integer, a symbolic boolean, or a special `BadValue` if an ill-typed expression is evaluated."
   ]
  },
  {
   "cell_type": "code",
   "execution_count": 15,
   "id": "f48fc4ff-e2c8-4826-bb66-8027b4e9729e",
   "metadata": {},
   "outputs": [],
   "source": [
    "data Value\n",
    "  = IValue SymInteger\n",
    "  | BValue SymBool\n",
    "  | BadValue\n",
    "  deriving (Show, Eq, Generic)\n",
    "  deriving (Mergeable, SEq) via (Default Value)"
   ]
  },
  {
   "cell_type": "markdown",
   "id": "1fb15a81-e800-408c-9304-e6595675eb9c",
   "metadata": {},
   "source": [
    "The `eval` function is updated to handle `UnionM Expr` and perform dynamic type checking.\n",
    "The type of our `eval` function is `Expr -> UnionM Value`, which means that we interpret an expression, and the result is a choice among the value types. To evaluate `UnionM Expr`, we can use `onUnion` or `.#` combinator provided by Grisette to lift the `eval` function."
   ]
  },
  {
   "cell_type": "code",
   "execution_count": 16,
   "id": "581d2a68-c822-450e-95f8-b2f50d711b64",
   "metadata": {},
   "outputs": [],
   "source": [
    "binOp :: UnionM Expr -> UnionM Expr -> ((Value, Value) -> Value) -> UnionM Value\n",
    "binOp l r f = do\n",
    "  el <- onUnion eval l\n",
    "  er <- eval .# r\n",
    "  mrgReturn $ f (el, er)\n",
    "\n",
    "eval :: Expr -> UnionM Value\n",
    "eval (I i) = mrgReturn $ IValue i\n",
    "eval (B b) = mrgReturn $ BValue b\n",
    "eval (Add l r) = binOp l r $ \\case\n",
    "  (IValue il, IValue ir) -> IValue $ il + ir\n",
    "  _ -> BadValue\n",
    "eval (Mul l r) = binOp l r $ \\case\n",
    "  (IValue il, IValue ir) -> IValue $ il * ir\n",
    "  _ -> BadValue\n",
    "eval (Eq l r) = binOp l r $ \\case\n",
    "  (IValue il, IValue ir) -> BValue $ il .== ir\n",
    "  (BValue il, BValue ir) -> BValue $ il .== ir\n",
    "  _ -> BadValue"
   ]
  },
  {
   "cell_type": "markdown",
   "id": "457952fa-fa4b-45da-853c-c42ff292ba3a",
   "metadata": {},
   "source": [
    "Now we can define some sketches and evaluate them. Our `eval` function is capable of simultaneously evaluating the entire program space!"
   ]
  },
  {
   "cell_type": "code",
   "execution_count": 17,
   "id": "5b2ce369-caf1-4bca-8f75-2e5b82337d44",
   "metadata": {},
   "outputs": [
    {
     "data": {
      "text/plain": [
       "Add {I a} {I b}"
      ]
     },
     "metadata": {},
     "output_type": "display_data"
    },
    {
     "data": {
      "text/plain": [
       "{IValue (+ a b)}"
      ]
     },
     "metadata": {},
     "output_type": "display_data"
    },
    {
     "data": {
      "text/plain": [
       "{If c (Add {I a} {I b}) (Mul {I a} {I b})}"
      ]
     },
     "metadata": {},
     "output_type": "display_data"
    },
    {
     "data": {
      "text/plain": [
       "{IValue (ite c (+ a b) (* a b))}"
      ]
     },
     "metadata": {},
     "output_type": "display_data"
    }
   ],
   "source": [
    "sketch :: Expr\n",
    "sketch = Add (mrgReturn $ I \"a\") (mrgReturn $ I \"b\")\n",
    "sketch\n",
    "eval sketch\n",
    "\n",
    "sketch :: UnionM Expr\n",
    "sketch = do\n",
    "  let a = mrgReturn $ I \"a\"\n",
    "  let b = mrgReturn $ I \"b\"\n",
    "  mrgIf \"c\" (mrgReturn $ Add a b) (mrgReturn $ Mul a b)\n",
    "sketch\n",
    "eval .# sketch"
   ]
  },
  {
   "cell_type": "markdown",
   "id": "d90b145f-1b8e-4c0d-b416-21e5377a51e4",
   "metadata": {},
   "source": [
    "### The Synthesizer\n",
    "\n",
    "Finally, let's write the synthesizer. Recall that in our formulation, we have an exists-forall formula. This cannot be directly transformed into an existential formula, so we use the CounterExample-Guided Inductive Synthesis (CEGIS) algorithm to handle it by making multiple solver calls, each of which is an existential formula.\n",
    "\n",
    "The semantics of `cegisForAll` is to solve the following formula:\n",
    "\n",
    "$\\exists P.(\\exists I. \\mathrm{pre}(P, I))\\wedge(\\forall I.\\mathrm{pre}(P, I)\\Rightarrow\\mathrm{post}(P, I))$\n",
    "\n",
    "You can view $P$ as the space of the program and $I$ as the inputs to the program. In our synthesizer, $P$ represents all the holes, and $I$ represents all the variables that exist in the original expression.\n",
    "\n",
    "The `cegisForAll` function takes three arguments. The first is the configuration of the solver. The second argument controls which symbolic constants are in $I$. With the `ExtractSymbolics` instance, we extract all the symbolic constants in the original expression and use them as the set $I$. The third argument specifies the preconditions and postconditions. Here, our precondition is simply true, so we can omit it and use the convenient function `cegisPostCond`."
   ]
  },
  {
   "cell_type": "code",
   "execution_count": 18,
   "id": "e9900bf2-64cd-4b74-832e-dc68a56bbe48",
   "metadata": {},
   "outputs": [],
   "source": [
    "synthesisRewriteTarget :: Expr -> UnionM Expr -> IO ()\n",
    "synthesisRewriteTarget expr sketch = do\n",
    "  let lhs = eval expr\n",
    "  let rhs = eval .# sketch\n",
    "  r <- cegisForAll (precise z3) expr $ cegisPostCond $ lhs .== rhs\n",
    "  case r of\n",
    "    (_, CEGISSuccess model) -> do\n",
    "      putStrLn \"Successfully synthesized RHS:\"\n",
    "      print $ evaluateSym False model sketch\n",
    "    (cex, failure) -> do\n",
    "      putStrLn $ \"Synthesis failed with error: \" ++ show failure\n",
    "      putStrLn $ \"Counter example list: \" ++ show cex"
   ]
  },
  {
   "cell_type": "markdown",
   "id": "2e5dc40d-6907-4ec3-b276-6b5cbf4c09a1",
   "metadata": {},
   "source": [
    "We can now synthesize an expression. The following example tries to determine whether we can rewrite $2 * x$ as $x + x$ or $x * x$."
   ]
  },
  {
   "cell_type": "code",
   "execution_count": 19,
   "id": "78f586d4-6cd0-4b4f-b710-178c2303e145",
   "metadata": {},
   "outputs": [
    {
     "data": {
      "text/plain": [
       "Successfully synthesized RHS:\n",
       "{Add {I x} {I x}}"
      ]
     },
     "metadata": {},
     "output_type": "display_data"
    }
   ],
   "source": [
    "x :: UnionM Expr\n",
    "x = mrgReturn $ I \"x\"\n",
    "\n",
    "lhs :: Expr\n",
    "lhs = Mul (mrgReturn $ I 2) x\n",
    "\n",
    "sketch :: UnionM Expr\n",
    "sketch =\n",
    "  mrgIf \"c\"\n",
    "    (mrgReturn $ Add x x)\n",
    "    (mrgReturn $ Mul x x)\n",
    "synthesisRewriteTarget lhs sketch"
   ]
  },
  {
   "cell_type": "markdown",
   "id": "8a14b66a-da6c-472d-a935-404ebcb6ee6b",
   "metadata": {},
   "source": [
    "The next example uses a larger sketch. We want to see whether $(a * b) + (b * c)$ can be rewritten.\n",
    "\n",
    "The sketch we are using is:\n",
    "\n",
    "```\n",
    "(?{a,b,c} ?{+,*} ?{a,b,c}) ?{+,*} ?{a,b,c}\n",
    "```\n",
    "\n",
    "The question mark indicates that we are selecting among the choices, which is why we call the operator that performs this selection `choose`."
   ]
  },
  {
   "cell_type": "code",
   "execution_count": 20,
   "id": "a0612dc0-8e39-4b08-989e-7cb4b6615a67",
   "metadata": {},
   "outputs": [
    {
     "data": {
      "text/plain": [
       "Successfully synthesized RHS:\n",
       "{Mul {Add {I a} {I c}} {I b}}"
      ]
     },
     "metadata": {},
     "output_type": "display_data"
    }
   ],
   "source": [
    "a, b, c :: UnionM Expr\n",
    "a = mrgReturn $ I \"a\"\n",
    "b = mrgReturn $ I \"b\"\n",
    "c = mrgReturn $ I \"c\"\n",
    "lhs :: Expr\n",
    "lhs = Add (mrgReturn $ Mul a b) (mrgReturn $ Mul b c)\n",
    "\n",
    "sketch :: UnionM Expr\n",
    "sketch = do\n",
    "  let lhs1 = chooseUnion [a, b, c] \"lhs1\"\n",
    "  let rhs1 = chooseUnion [a, b, c] \"rhs1\"\n",
    "  let rhs = chooseUnion [a, b, c] \"rhs\"\n",
    "  let lhs = choose [Add lhs1 rhs1, Mul lhs1 rhs1] \"lhs\"\n",
    "  choose [Add lhs rhs, Mul lhs rhs] \"sketch\"\n",
    "\n",
    "synthesisRewriteTarget lhs sketch"
   ]
  },
  {
   "cell_type": "markdown",
   "id": "55e64665-b788-4df1-bd62-8f3ed52a9a1f",
   "metadata": {},
   "source": [
    "## Conclusion\n",
    "\n",
    "In this tutorial, we explored the core construct of Grisette, the `UnionM` monadic container. We learned how to work with `UnionM` to represent choices and introduce path conditions, and how Grisette merges execution paths to improve efficiency and avoid the path explosion problem.\n",
    "\n",
    "We also discovered how to derive instances of the `Mergeable` typeclass for our custom data types, enabling seamless integration with Grisette's features. By deriving instances using `Generic` and `DerivingVia`, we can quickly make our types compatible with Grisette without manually writing the instances.\n",
    "\n",
    "Furthermore, we extended our expression equivalence verifier to build a simple rewriting rule synthesizer. We introduced the concept of program sketches and holes, and demonstrated how to use CounterExample-Guided Inductive Synthesis (CEGIS) provided by Grisette to search for a program that satisfies a given specification.\n",
    "\n",
    "However, there are still some areas where the code can be improved. For example, we had to introduce the `BadValue` constructor to handle ill-typed expressions, which adds boilerplate to our code. Additionally, constructing sketches can be verbose and difficult to reuse.\n",
    "\n",
    "In future tutorials, we will explore more advanced features of Grisette that can help us address these issues and simplify our code. We will learn about constructs that can reduce boilerplate and make our code more concise and reusable.\n",
    "\n",
    "By mastering the concepts introduced in this tutorial and leveraging the power of Grisette, you will be well-equipped to tackle complex problems involving symbolic execution, program synthesis, and verification."
   ]
  }
 ],
 "metadata": {
  "kernelspec": {
   "display_name": "Haskell",
   "language": "haskell",
   "name": "haskell"
  },
  "language_info": {
   "codemirror_mode": "ihaskell",
   "file_extension": ".hs",
   "mimetype": "text/x-haskell",
   "name": "haskell",
   "pygments_lexer": "Haskell",
   "version": "9.6.3"
  }
 },
 "nbformat": 4,
 "nbformat_minor": 5
}
