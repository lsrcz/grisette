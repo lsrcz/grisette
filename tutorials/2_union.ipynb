{
 "cells": [
  {
   "cell_type": "code",
   "execution_count": 1,
   "id": "46b53581-5285-459b-a189-05dfcec0be04",
   "metadata": {},
   "outputs": [],
   "source": [
    "{-# LANGUAGE OverloadedStrings #-}\n",
    "{-# LANGUAGE DeriveGeneric #-}\n",
    "{-# LANGUAGE StandaloneDeriving #-}\n",
    "{-# LANGUAGE DerivingVia #-}\n",
    "{-# LANGUAGE GADTs #-}\n",
    "{-# LANGUAGE LambdaCase #-}\n",
    "import GHC.Generics\n",
    "import Grisette"
   ]
  },
  {
   "cell_type": "markdown",
   "id": "972b34ad-eaca-413f-b3c0-17bb61a665cb",
   "metadata": {},
   "source": [
    "# UnionM and Custom Data Types"
   ]
  },
  {
   "cell_type": "markdown",
   "id": "d489e1c8-b532-458f-b00f-698838a51124",
   "metadata": {},
   "source": [
    "## Introduction\n",
    "\n",
    "In the [previous tutorial](./1_symbolic_type.ipynb), we discussed the basic usage of Grisette with symbolic types.\n",
    "Grisette is a powerful Haskell library that enables solver-aided programming, allowing you to construct complex programs and data abstractions that seamlessly integrate with the Grisette system.\n",
    "\n",
    "In this tutorial, you will learn how to:\n",
    "- Utilize the `UnionM` monadic container for representing choices and path conditions\n",
    "- Understand path merging and its importance for efficient symbolic execution\n",
    "- Work with user-defined data types in Grisette- Build a program synthesizer using CounterExample-Guided Inductive Synthesis (CEGIS)\n",
    "\n",
    "By the end of this tutorial, you will have a solid understanding of how to leverage Grisette's features to build sophisticated solver-aided applications, such as program synthesizers and verifiers.\n",
    "\n",
    "Prerequisites:\n",
    "\n",
    "- Understanding of monads and type classes in Haskell"
   ]
  },
  {
   "cell_type": "markdown",
   "id": "3a9c85f2-eff9-4e3e-87c6-60ea0742a7e5",
   "metadata": {},
   "source": [
    "## UnionM Monadic Container\n",
    "\n",
    "Grisette not only supports working with primitive types, but also supports the integration of user-defined data types.\n",
    "The key to this integration is a monadic container called `UnionM`. A `UnionM` is essentially an if-then-else tree that wraps values with their path conditions.\n",
    "When a path condition evaluates to true, the value of the `UnionM` is the corresponding value associated with that path condition.\n",
    "\n",
    "The following code demonstrates how to wrap values in a `UnionM`.\n",
    "As `UnionM` is monadic, you can use `return` to wrap a single value into the container.\n",
    "However, when working with Grisette, in most scenarios, we prefer the `mrgReturn` variant. This is crucial to Grisette's efficiency, and we will explain the reason later."
   ]
  },
  {
   "cell_type": "code",
   "execution_count": 2,
   "id": "bc40c2b1-a2b8-438b-a945-5523628982ff",
   "metadata": {},
   "outputs": [
    {
     "data": {
      "text/plain": [
       "{(1,a)}"
      ]
     },
     "metadata": {},
     "output_type": "display_data"
    },
    {
     "data": {
      "text/plain": [
       "{Left 10}"
      ]
     },
     "metadata": {},
     "output_type": "display_data"
    }
   ],
   "source": [
    "mrgReturn (1, \"a\") :: UnionM (SymInteger, SymBool)\n",
    "mrgReturn (Left 10) :: UnionM (Either Integer SymBool)"
   ]
  },
  {
   "cell_type": "markdown",
   "id": "7a69bb3f-9324-4d13-8f30-5a69b3df6ad3",
   "metadata": {},
   "source": [
    "You can introduce path condition to the `UnionM` container with the `mrgIf` function."
   ]
  },
  {
   "cell_type": "code",
   "execution_count": 3,
   "id": "22300abe-7680-4156-acaa-01acc0282ff4",
   "metadata": {},
   "outputs": [
    {
     "data": {
      "text/plain": [
       "{If cond [a1] [a2,a3]}"
      ]
     },
     "metadata": {},
     "output_type": "display_data"
    },
    {
     "data": {
      "text/plain": [
       "{If cond (Left 10) (Right b)}"
      ]
     },
     "metadata": {},
     "output_type": "display_data"
    }
   ],
   "source": [
    "unionList :: UnionM [SymInteger]\n",
    "unionList = mrgIf \"cond\" (mrgReturn [\"a1\"]) (mrgReturn [\"a2\", \"a3\"])\n",
    "unionList\n",
    "\n",
    "unionEither :: UnionM (Either Integer SymBool)\n",
    "unionEither = mrgIf \"cond\" (mrgReturn $ Left 10) (mrgReturn $ Right \"b\")\n",
    "unionEither"
   ]
  },
  {
   "cell_type": "markdown",
   "id": "bf095ec9-224d-47e5-a238-3b0dfaa64151",
   "metadata": {},
   "source": [
    "In these unions, the path condition determines which branch to take. For example, in the `unionList`, if `cond` is true, we will pick the branch with a single element; otherwise, we will pick the branch with two elements."
   ]
  },
  {
   "cell_type": "code",
   "execution_count": 4,
   "id": "f1385b91-965d-4a11-a933-11ccf17e9b0e",
   "metadata": {},
   "outputs": [
    {
     "data": {
      "text/plain": [
       "{[1]}"
      ]
     },
     "metadata": {},
     "output_type": "display_data"
    },
    {
     "data": {
      "text/plain": [
       "{[1,a3]}"
      ]
     },
     "metadata": {},
     "output_type": "display_data"
    }
   ],
   "source": [
    "evaluateSym False (buildModel (\"cond\" ::= True, \"a1\" ::= (1 :: Integer))) unionList\n",
    "evaluateSym False (buildModel (\"cond\" ::= False, \"a2\" ::= (1 :: Integer))) unionList"
   ]
  },
  {
   "cell_type": "markdown",
   "id": "cf05579b-4d73-4ffa-856e-ea9ee6e49133",
   "metadata": {},
   "source": [
    "`UnionM` is a container container, and we can use the `do`-notation or monadic combinators to manipulate them. The following code demonstrates prepending 1 to `unionList`. The `Monad` instance of the `UnionM` will \"split\" the execution path for the branches and maintain the correct path conditions in the results."
   ]
  },
  {
   "cell_type": "code",
   "execution_count": 5,
   "id": "80fb3bca-12ce-4ea1-8d23-48a04410d3cd",
   "metadata": {},
   "outputs": [
    {
     "data": {
      "text/plain": [
       "{If cond [1,a1] [1,a2,a3]}"
      ]
     },
     "metadata": {},
     "output_type": "display_data"
    }
   ],
   "source": [
    "do l <- unionList\n",
    "   mrgReturn $ 1 : l"
   ]
  },
  {
   "cell_type": "markdown",
   "id": "33e5231d-4503-4df7-9330-259fce17e963",
   "metadata": {},
   "source": [
    "## Path Merging\n",
    "\n",
    "This approach in the last section works well, but when writing real-world programs, you may encounter code like this:\n",
    "\n",
    "```haskell\n",
    "union = do\n",
    "  a <- union1\n",
    "  b <- union2\n",
    "  c <- union3\n",
    "  return $ f a b c\n",
    "```\n",
    "\n",
    "You can further extract the values from the `union` value. While this approach can work, it suffers from poor efficiency. Consider the `do` block shown in the example. If `union1`, `union2`, and `union3` have 2 branches each, the final processing function `f` will need to be executed 8 times (2 * 2 * 2). Each further usage of the `union` will force the code to be executed 8 times, and this exponential number of paths will not scale in real-world scenarios. This is the well-known path explosion problem in symbolic execution.\n",
    "\n",
    "To tackle this problem, Grisette merges execution paths. For example, in the following code, where we take the sum of the values in `unionList`, instead of generating two different branches, each containing a single symbolic integer, Grisette merges them into a single symbolic integer using `ite`. "
   ]
  },
  {
   "cell_type": "code",
   "execution_count": 6,
   "id": "72f9df36-8daa-4773-87fe-5891a9b45e0c",
   "metadata": {},
   "outputs": [
    {
     "data": {
      "text/plain": [
       "{(ite cond a1 (+ a2 a3))}"
      ]
     },
     "metadata": {},
     "output_type": "display_data"
    }
   ],
   "source": [
    "do l <- unionList\n",
    "   mrgReturn $ sum l"
   ]
  },
  {
   "cell_type": "markdown",
   "id": "5f1b9e88-93ce-48c4-a780-014258700ff5",
   "metadata": {},
   "source": [
    "Note the `mrgReturn` function is used here. It is the key to merging in Grisette. If we use the vanilla `return` function or `fmap` function, the result will instead have two branches and will not be merged. The angle bracket around the values indicates that the result isn't merged."
   ]
  },
  {
   "cell_type": "code",
   "execution_count": 7,
   "id": "0e35c1d4-9d57-42a7-b76e-9bc904c373ab",
   "metadata": {},
   "outputs": [
    {
     "data": {
      "text/plain": [
       "<If cond a1 (+ a2 a3)>"
      ]
     },
     "metadata": {},
     "output_type": "display_data"
    }
   ],
   "source": [
    "sum <$> unionList"
   ]
  },
  {
   "cell_type": "markdown",
   "id": "350ee4cd-9f30-4f1d-abad-f28ed15cd0b7",
   "metadata": {},
   "source": [
    "Let's examine the type signature of `mrgReturn` and compare it with the vanilla `return` function. `mrgReturn` places additional constraints on both the monad and the value."
   ]
  },
  {
   "cell_type": "code",
   "execution_count": 8,
   "id": "1b96410a-87c1-4437-8533-d191b8b3910b",
   "metadata": {},
   "outputs": [
    {
     "data": {
      "text/html": [
       "<style>/* Styles used for the Hoogle display in the pager */\n",
       ".hoogle-doc {\n",
       "display: block;\n",
       "padding-bottom: 1.3em;\n",
       "padding-left: 0.4em;\n",
       "}\n",
       ".hoogle-code {\n",
       "display: block;\n",
       "font-family: monospace;\n",
       "white-space: pre;\n",
       "}\n",
       ".hoogle-text {\n",
       "display: block;\n",
       "}\n",
       ".hoogle-name {\n",
       "color: green;\n",
       "font-weight: bold;\n",
       "}\n",
       ".hoogle-head {\n",
       "font-weight: bold;\n",
       "}\n",
       ".hoogle-sub {\n",
       "display: block;\n",
       "margin-left: 0.4em;\n",
       "}\n",
       ".hoogle-package {\n",
       "font-weight: bold;\n",
       "font-style: italic;\n",
       "}\n",
       ".hoogle-module {\n",
       "font-weight: bold;\n",
       "}\n",
       ".hoogle-class {\n",
       "font-weight: bold;\n",
       "}\n",
       "\n",
       ".get-type {\n",
       "color: green;\n",
       "font-weight: bold;\n",
       "font-family: monospace;\n",
       "display: block;\n",
       "white-space: pre-wrap;\n",
       "}\n",
       ".show-type {\n",
       "color: green;\n",
       "font-weight: bold;\n",
       "font-family: monospace;\n",
       "margin-left: 1em;\n",
       "}\n",
       ".mono {\n",
       "font-family: monospace;\n",
       "display: block;\n",
       "}\n",
       ".err-msg {\n",
       "color: red;\n",
       "font-style: italic;\n",
       "font-family: monospace;\n",
       "white-space: pre;\n",
       "display: block;\n",
       "}\n",
       "#unshowable {\n",
       "color: red;\n",
       "font-weight: bold;\n",
       "}\n",
       ".err-msg.in.collapse {\n",
       "padding-top: 0.7em;\n",
       "}\n",
       "\n",
       ".highlight-code {\n",
       "white-space: pre;\n",
       "font-family: monospace;\n",
       "}\n",
       "\n",
       ".suggestion-warning { \n",
       "font-weight: bold;\n",
       "color: rgb(200, 130, 0);\n",
       "}\n",
       ".suggestion-error { \n",
       "font-weight: bold;\n",
       "color: red;\n",
       "}\n",
       ".suggestion-name {\n",
       "font-weight: bold;\n",
       "}\n",
       "\n",
       "</style><span class='get-type'>return :: forall (m :: * -> *) a. Monad m => a -> m a</span>"
      ],
      "text/plain": [
       "return :: forall (m :: * -> *) a. Monad m => a -> m a"
      ]
     },
     "metadata": {},
     "output_type": "display_data"
    },
    {
     "data": {
      "text/html": [
       "<style>/* Styles used for the Hoogle display in the pager */\n",
       ".hoogle-doc {\n",
       "display: block;\n",
       "padding-bottom: 1.3em;\n",
       "padding-left: 0.4em;\n",
       "}\n",
       ".hoogle-code {\n",
       "display: block;\n",
       "font-family: monospace;\n",
       "white-space: pre;\n",
       "}\n",
       ".hoogle-text {\n",
       "display: block;\n",
       "}\n",
       ".hoogle-name {\n",
       "color: green;\n",
       "font-weight: bold;\n",
       "}\n",
       ".hoogle-head {\n",
       "font-weight: bold;\n",
       "}\n",
       ".hoogle-sub {\n",
       "display: block;\n",
       "margin-left: 0.4em;\n",
       "}\n",
       ".hoogle-package {\n",
       "font-weight: bold;\n",
       "font-style: italic;\n",
       "}\n",
       ".hoogle-module {\n",
       "font-weight: bold;\n",
       "}\n",
       ".hoogle-class {\n",
       "font-weight: bold;\n",
       "}\n",
       "\n",
       ".get-type {\n",
       "color: green;\n",
       "font-weight: bold;\n",
       "font-family: monospace;\n",
       "display: block;\n",
       "white-space: pre-wrap;\n",
       "}\n",
       ".show-type {\n",
       "color: green;\n",
       "font-weight: bold;\n",
       "font-family: monospace;\n",
       "margin-left: 1em;\n",
       "}\n",
       ".mono {\n",
       "font-family: monospace;\n",
       "display: block;\n",
       "}\n",
       ".err-msg {\n",
       "color: red;\n",
       "font-style: italic;\n",
       "font-family: monospace;\n",
       "white-space: pre;\n",
       "display: block;\n",
       "}\n",
       "#unshowable {\n",
       "color: red;\n",
       "font-weight: bold;\n",
       "}\n",
       ".err-msg.in.collapse {\n",
       "padding-top: 0.7em;\n",
       "}\n",
       "\n",
       ".highlight-code {\n",
       "white-space: pre;\n",
       "font-family: monospace;\n",
       "}\n",
       "\n",
       ".suggestion-warning { \n",
       "font-weight: bold;\n",
       "color: rgb(200, 130, 0);\n",
       "}\n",
       ".suggestion-error { \n",
       "font-weight: bold;\n",
       "color: red;\n",
       "}\n",
       ".suggestion-name {\n",
       "font-weight: bold;\n",
       "}\n",
       "\n",
       "</style><span class='get-type'>mrgReturn :: forall (u :: * -> *) a. (MonadTryMerge u, Mergeable a) => a -> u a</span>"
      ],
      "text/plain": [
       "mrgReturn :: forall (u :: * -> *) a. (MonadTryMerge u, Mergeable a) => a -> u a"
      ]
     },
     "metadata": {},
     "output_type": "display_data"
    }
   ],
   "source": [
    ":t return\n",
    ":t mrgReturn"
   ]
  },
  {
   "attachments": {},
   "cell_type": "markdown",
   "id": "65815be5-eb03-46c9-a594-e0afb83f9b98",
   "metadata": {},
   "source": [
    "For the value, it needs to be `Mergeable`. `Mergeable` defines the merging strategy for the value type, which is beyond the scope of this tutorial.\n",
    "\n",
    "For the monad, it needs to be `MonadTryMerge`. For `UnionM` (or `UnionM` transformed with some monad transformers, which we will discuss in later tutorials), the `MonadTryMerge` instance caches the merging strategy into the monad, and the bind function uses this cached strategy to merge the results. For other monads, such as `Either e`, the `MonadTryMerge` instance does nothing.\n",
    "\n",
    "If you don't fully understand all the details here, that's okay. The key takeaway is to always use `mrgReturn` instead of `return`, unless you know what you are doing and want to manually control where to merge the values. We also provide `mrg*` (or sometimes, named `sym*`) variants for many combinators from GHC's `base` library, including those working with `Monad`, `Applicative`, `Functor`, `Foldable`, `Traversable` and lists. You may want to checkout the documentation and use them.\n",
    "\n",
    "We may also print the results to see whether there is a cached merging strategy. The curly braces indicate that there is a merging strategy, while the angle brackets indicate that there isn't one."
   ]
  },
  {
   "cell_type": "code",
   "execution_count": 9,
   "id": "eece5918-d855-4720-9337-248bcec7967c",
   "metadata": {},
   "outputs": [
    {
     "data": {
      "text/plain": [
       "<1>"
      ]
     },
     "metadata": {},
     "output_type": "display_data"
    },
    {
     "data": {
      "text/plain": [
       "{1}"
      ]
     },
     "metadata": {},
     "output_type": "display_data"
    }
   ],
   "source": [
    "return 1 :: UnionM Int\n",
    "mrgReturn 1 :: UnionM Int"
   ]
  },
  {
   "cell_type": "markdown",
   "id": "df360860-3407-4427-8438-1fcbf6ef4910",
   "metadata": {},
   "source": [
    "## Deriving Mergeable Instance\n",
    "\n",
    "Different types have different merging strategies. For example, for the type `[SymInteger]`, the Grisette system will try to merge lists with the same lengths, while for the type `Either Integer SymBool`, left values will be merged if they are exactly the same, while right values will always be merged.\n",
    "\n",
    "(It is okay to use `return` here because the `mrgIf` will handle the merging)"
   ]
  },
  {
   "cell_type": "code",
   "execution_count": 10,
   "id": "025ec5d8-f77f-4465-8662-d0efc0a89fd6",
   "metadata": {},
   "outputs": [
    {
     "data": {
      "text/plain": [
       "{[(ite cond a c),(ite cond b d)]}"
      ]
     },
     "metadata": {},
     "output_type": "display_data"
    },
    {
     "data": {
      "text/plain": [
       "{If cond (Left 1) (Left 2)}"
      ]
     },
     "metadata": {},
     "output_type": "display_data"
    },
    {
     "data": {
      "text/plain": [
       "{Left 1}"
      ]
     },
     "metadata": {},
     "output_type": "display_data"
    },
    {
     "data": {
      "text/plain": [
       "{If cond (Left 1) (Right x)}"
      ]
     },
     "metadata": {},
     "output_type": "display_data"
    },
    {
     "data": {
      "text/plain": [
       "{Right (ite cond x y)}"
      ]
     },
     "metadata": {},
     "output_type": "display_data"
    }
   ],
   "source": [
    "mrgIf \"cond\" (return [\"a\",\"b\"]) (return [\"c\",\"d\"]) :: UnionM [SymInteger]\n",
    "mrgIf \"cond\" (return $ Left 1) (return $ Left 2) :: UnionM (Either Integer SymBool)\n",
    "mrgIf \"cond\" (return $ Left 1) (return $ Left 1) :: UnionM (Either Integer SymBool)\n",
    "mrgIf \"cond\" (return $ Left 1) (return $ Right \"x\") :: UnionM (Either Integer SymBool)\n",
    "mrgIf \"cond\" (return $ Right \"x\") (return $ Right \"y\") :: UnionM (Either Integer SymBool)"
   ]
  },
  {
   "cell_type": "markdown",
   "id": "05b65c0e-5865-4889-92a6-178419d1d9e7",
   "metadata": {},
   "source": [
    "As we mentioned earlier, merging is controlled by the `Mergeable` type class. This means that we can define `Mergeable` instances for our custom types to make them compatible with Grisette.\n",
    "\n",
    "Defining a merging strategy is beyond the scope of this tutorial, but we have provided a default instance for non-GADT data types, which you can access using `DerivingVia` with a `Generic` instance. Automatic deriving instances for GADTs will require `TemplateHaskell`, and we may provide this in a future release."
   ]
  },
  {
   "cell_type": "code",
   "execution_count": 11,
   "id": "5cd5cf90-4491-4750-9b4c-987b1873266b",
   "metadata": {},
   "outputs": [
    {
     "data": {
      "text/plain": [
       "{If (|| cond (! cond2)) (X 1 (ite cond a c)) (X 2 b)}"
      ]
     },
     "metadata": {},
     "output_type": "display_data"
    }
   ],
   "source": [
    "data A = X Int SymBool | Y SymInteger\n",
    "  deriving (Show, Generic)\n",
    "  deriving (Mergeable) via (Default A)\n",
    "\n",
    "mrgIf \"cond\" (return $ X 1 \"a\") (mrgIf \"cond2\" (return $ X 2 \"b\") (return $ X 1 \"c\")) :: UnionM A"
   ]
  },
  {
   "cell_type": "markdown",
   "id": "c61fc9b0-ad81-4def-b219-2bf691d32de0",
   "metadata": {},
   "source": [
    "Note that a similar mechanism is provided for most of the type classes to make the types fully compatible with Grisette."
   ]
  },
  {
   "cell_type": "code",
   "execution_count": 12,
   "id": "bf6b6848-8211-469c-b04e-597c7b22fd55",
   "metadata": {},
   "outputs": [
    {
     "data": {
      "text/plain": [
       "X 1 true"
      ]
     },
     "metadata": {},
     "output_type": "display_data"
    }
   ],
   "source": [
    "deriving via (Default A) instance (EvaluateSym A)\n",
    "evaluateSym False (buildModel (\"a\" ::= True)) $ X 1 \"a\""
   ]
  },
  {
   "cell_type": "markdown",
   "id": "9079365a-aca6-49bb-ab2a-e1426ae50083",
   "metadata": {},
   "source": [
    "## A Rewriting Rule Synthesizer\n",
    "\n",
    "Now let's extend the expression equivalence verifier to a simple synthesizer. A synthesizer is a tool that searches a program space, represented by a *program sketch*, to find a program that fulfills a given specification.\n",
    "\n",
    "A *program sketch* is a program with *holes*, where a *hole* is a symbolic constant that could be instantiated to choose from the alternative programs in the program space. For example, consider the following program sketch for our problem:\n",
    "\n",
    "```haskell\n",
    "(If hole1 (Add x hole2) (Mul x hole3)\n",
    "```\n",
    "\n",
    "This program sketch represents a program space that includes, but not limited to, the following programs:\n",
    "\n",
    "- `x + 1` (with `hole1` to be true and `hole2` to be 1)\n",
    "- `x + 2` (with `hole1` to be true and `hole2` to be 2)\n",
    "- `x * 3` (with `hole1` to be false and `hole3` to be 3)\n",
    "\n",
    "To synthesize a rewriting rule, our goal is to find an alternative expression that implements the same functionality as the original expression. This can be formulated as the following formula:\n",
    "\n",
    "$p_1 = \\exists~\\mathrm{hole}\\in \\mathrm{consts}(e_\\mathrm{sketch})\\setminus \\mathrm{consts}(e_\\mathrm{orig}). \\forall~\\mathrm{var}\\in e_\\mathrm{orig}. \\mathrm{eval}(e_\\mathrm{orig}) = \\mathrm{eval}(e_\\mathrm{sketch})$\n",
    "\n",
    "Note that all symbolic constants already present in the original expression are not treated as holes, and our synthesized expression should have the same semantics as the original expression, regardless of the values assigned to these variables.\n",
    "\n",
    "To represent a program sketch, we need to extend our expression type. We modify the operands of `Add`, `Mul` and `Eq` to `UnionM Expr` to represent a choice among multiple programs. In this tutorial, we will not use GADTs, as we want to avoid manually writing instances. Instead, we will derive the necessary instances for the type."
   ]
  },
  {
   "cell_type": "code",
   "execution_count": 13,
   "id": "a94c0cdf-e881-4610-8a4a-5ed7e04ff818",
   "metadata": {},
   "outputs": [],
   "source": [
    "data Expr\n",
    "  = I SymInteger\n",
    "  | B SymBool\n",
    "  | Add (UnionM Expr) (UnionM Expr)\n",
    "  | Mul (UnionM Expr) (UnionM Expr)\n",
    "  | Eq (UnionM Expr) (UnionM Expr)\n",
    "  deriving (Show, Eq, Generic)\n",
    "  deriving (Mergeable, ExtractSymbolics, EvaluateSym) via (Default Expr)"
   ]
  },
  {
   "cell_type": "markdown",
   "id": "96650306-345b-4a25-b12d-017d5fd6bc1c",
   "metadata": {},
   "source": [
    "Additionally, we introduce a sum type `Value` to represent all possible evaluation results. This type will be used to demonstrate how to program with `UnionM`. The evaluation result can be a symbolic integer, a symbolic boolean, or a special `BadValue` if an ill-typed expression is evaluated."
   ]
  },
  {
   "cell_type": "code",
   "execution_count": 14,
   "id": "f48fc4ff-e2c8-4826-bb66-8027b4e9729e",
   "metadata": {},
   "outputs": [],
   "source": [
    "data Value\n",
    "  = IValue SymInteger\n",
    "  | BValue SymBool\n",
    "  | BadValue\n",
    "  deriving (Show, Eq, Generic)\n",
    "  deriving (Mergeable, SEq) via (Default Value)"
   ]
  },
  {
   "cell_type": "markdown",
   "id": "1fb15a81-e800-408c-9304-e6595675eb9c",
   "metadata": {},
   "source": [
    "Next, let's write the interpreter. Our interpreter now needs to perform dynamic type checking and generate `BadValue` if the inputs are of invalid types.\r\n",
    "\r\n",
    "The type of ou`r ev`al function  nowi`s Expr -> UnionM Val`ue, which means that we interpret an expression, and the result is a choice among the value types. To evaluate `a UnionM Ex`pr, we can use th`e onUni`on o`r `.# combinator provided by Grisette to lift th`e ev`al function."
   ]
  },
  {
   "cell_type": "code",
   "execution_count": 15,
   "id": "581d2a68-c822-450e-95f8-b2f50d711b64",
   "metadata": {},
   "outputs": [],
   "source": [
    "binOp :: UnionM Expr -> UnionM Expr -> ((Value, Value) -> Value) -> UnionM Value\n",
    "binOp l r f = do\n",
    "  el <- onUnion eval l\n",
    "  er <- eval .# r\n",
    "  mrgReturn $ f (el, er)\n",
    "\n",
    "eval :: Expr -> UnionM Value\n",
    "eval (I i) = mrgReturn $ IValue i\n",
    "eval (B b) = mrgReturn $ BValue b\n",
    "eval (Add l r) = binOp l r $ \\case\n",
    "  (IValue il, IValue ir) -> IValue $ il + ir\n",
    "  _ -> BadValue\n",
    "eval (Mul l r) = binOp l r $ \\case\n",
    "  (IValue il, IValue ir) -> IValue $ il * ir\n",
    "  _ -> BadValue\n",
    "eval (Eq l r) = binOp l r $ \\case\n",
    "  (IValue il, IValue ir) -> BValue $ il .== ir\n",
    "  (BValue il, BValue ir) -> BValue $ il .== ir\n",
    "  _ -> BadValue"
   ]
  },
  {
   "cell_type": "markdown",
   "id": "457952fa-fa4b-45da-853c-c42ff292ba3a",
   "metadata": {},
   "source": [
    "Now we can define some sketches and evaluate them. Our `eval` function is capable of simultaneously evaluating the entire program space!"
   ]
  },
  {
   "cell_type": "code",
   "execution_count": 16,
   "id": "5b2ce369-caf1-4bca-8f75-2e5b82337d44",
   "metadata": {},
   "outputs": [
    {
     "data": {
      "text/plain": [
       "Add {I a} {I b}"
      ]
     },
     "metadata": {},
     "output_type": "display_data"
    },
    {
     "data": {
      "text/plain": [
       "{IValue (+ a b)}"
      ]
     },
     "metadata": {},
     "output_type": "display_data"
    },
    {
     "data": {
      "text/plain": [
       "{If c (Add {I a} {I b}) (Mul {I a} {I b})}"
      ]
     },
     "metadata": {},
     "output_type": "display_data"
    },
    {
     "data": {
      "text/plain": [
       "{IValue (ite c (+ a b) (* a b))}"
      ]
     },
     "metadata": {},
     "output_type": "display_data"
    }
   ],
   "source": [
    "sketch :: Expr\n",
    "sketch = Add (mrgReturn $ I \"a\") (mrgReturn $ I \"b\")\n",
    "sketch\n",
    "eval sketch\n",
    "\n",
    "sketch :: UnionM Expr\n",
    "sketch = do\n",
    "  let a = mrgReturn $ I \"a\"\n",
    "  let b = mrgReturn $ I \"b\"\n",
    "  mrgIf \"c\" (mrgReturn $ Add a b) (mrgReturn $ Mul a b)\n",
    "sketch\n",
    "eval .# sketch"
   ]
  },
  {
   "cell_type": "markdown",
   "id": "d90b145f-1b8e-4c0d-b416-21e5377a51e4",
   "metadata": {},
   "source": [
    "Finally, let's write the synthesizer. Recall that in our formulation, we have an exists-forall formula. This cannot be directly transformed into an existential formula, so we use the CounterExample-Guided Inductive Synthesis (CEGIS) algorithm to handle it by making multiple solver calls, each of which is an existential formula.\n",
    "\n",
    "The semantics of `cegisForAll` is to solve the following formula:\n",
    "\n",
    "$\\exists P.(\\exists I. \\mathrm{pre}(P, I))\\wedge(\\forall I.\\mathrm{pre}(P, I)\\Rightarrow\\mathrm{post}(P, I))$\n",
    "\n",
    "You can view $P$ as the space of the program and $I$ as the inputs to the program. In our synthesizer, $P$ represents all the holes, and $I$ represents all the variables that exist in the original expression.\n",
    "\n",
    "The `cegisForAll` function takes three arguments. The first is the configuration of the solver. The second argument controls which symbolic constants are in $I$. With the `ExtractSymbolics` instance, we extract all the symbolic constants in the original expression and use them as the set $I$. The third argument specifies the preconditions and postconditions. Here, our precondition is simply true, so we can omit it and use the convenient function `cegisPostCond`."
   ]
  },
  {
   "cell_type": "code",
   "execution_count": 17,
   "id": "e9900bf2-64cd-4b74-832e-dc68a56bbe48",
   "metadata": {},
   "outputs": [],
   "source": [
    "synthesisRewriteTarget :: Expr -> UnionM Expr -> IO ()\n",
    "synthesisRewriteTarget expr sketch = do\n",
    "  let lhs = eval expr\n",
    "  let rhs = eval .# sketch\n",
    "  r <- cegisForAll (precise z3) expr $ cegisPostCond $ lhs .== rhs\n",
    "  case r of\n",
    "    (_, CEGISSuccess model) -> do\n",
    "      putStrLn \"Successfully synthesized RHS:\"\n",
    "      print $ evaluateSym False model sketch\n",
    "    (cex, failure) -> do\n",
    "      putStrLn $ \"Synthesis failed with error: \" ++ show failure\n",
    "      putStrLn $ \"Counter example list: \" ++ show cex"
   ]
  },
  {
   "cell_type": "markdown",
   "id": "2e5dc40d-6907-4ec3-b276-6b5cbf4c09a1",
   "metadata": {},
   "source": [
    "We can now synthesize an expression. The following example tries to determine whether we can rewrite $2 * x$ as $x + x$ or $x * x$."
   ]
  },
  {
   "cell_type": "code",
   "execution_count": 18,
   "id": "78f586d4-6cd0-4b4f-b710-178c2303e145",
   "metadata": {},
   "outputs": [
    {
     "data": {
      "text/plain": [
       "Successfully synthesized RHS:\n",
       "{Add {I x} {I x}}"
      ]
     },
     "metadata": {},
     "output_type": "display_data"
    }
   ],
   "source": [
    "x :: UnionM Expr\n",
    "x = mrgReturn $ I \"x\"\n",
    "\n",
    "lhs :: Expr\n",
    "lhs = Mul (mrgReturn $ I 2) x\n",
    "\n",
    "sketch :: UnionM Expr\n",
    "sketch =\n",
    "  mrgIf \"c\"\n",
    "    (mrgReturn $ Add x x)\n",
    "    (mrgReturn $ Mul x x)\n",
    "synthesisRewriteTarget lhs sketch"
   ]
  },
  {
   "cell_type": "markdown",
   "id": "8a14b66a-da6c-472d-a935-404ebcb6ee6b",
   "metadata": {},
   "source": [
    "The next example uses a larger sketch. We want to see whether $(a * b) + (b * c)$ can be rewritten.\r\n",
    "\r\n",
    "The sketch we are using is:\n",
    "\n",
    "```\n",
    "(?{a,b,c} ?{+,*} ?{a,b,c}) ?{+,*} ?{a,b,c}\n",
    "```The question mark indicates that we are selecting among the choices, which is why we call the operator that performs this selectionon `choose`."
   ]
  },
  {
   "cell_type": "code",
   "execution_count": 19,
   "id": "a0612dc0-8e39-4b08-989e-7cb4b6615a67",
   "metadata": {},
   "outputs": [
    {
     "data": {
      "text/plain": [
       "Successfully synthesized RHS:\n",
       "{Mul {Add {I a} {I c}} {I b}}"
      ]
     },
     "metadata": {},
     "output_type": "display_data"
    }
   ],
   "source": [
    "a, b, c :: UnionM Expr\n",
    "a = mrgReturn $ I \"a\"\n",
    "b = mrgReturn $ I \"b\"\n",
    "c = mrgReturn $ I \"c\"\n",
    "lhs :: Expr\n",
    "lhs = Add (mrgReturn $ Mul a b) (mrgReturn $ Mul b c)\n",
    "\n",
    "sketch :: UnionM Expr\n",
    "sketch = do\n",
    "  let lhs1 = chooseUnion [a, b, c] \"lhs1\"\n",
    "  let rhs1 = chooseUnion [a, b, c] \"rhs1\"\n",
    "  let rhs = chooseUnion [a, b, c] \"rhs\"\n",
    "  let lhs = choose [Add lhs1 rhs1, Mul lhs1 rhs1] \"lhs\"\n",
    "  choose [Add lhs rhs, Mul lhs rhs] \"sketch\"\n",
    "\n",
    "synthesisRewriteTarget lhs sketch"
   ]
  },
  {
   "cell_type": "markdown",
   "id": "55e64665-b788-4df1-bd62-8f3ed52a9a1f",
   "metadata": {},
   "source": [
    "## Conclusion\n",
    "\n",
    "In this tutorial, we explored the core construct of Grisette, the `UnionM` monadic container. We learned how to work with `UnionM` to represent choices and introduce path conditions, and how Grisette merges execution paths to improve efficiency and avoid the path explosion problem.\r\n",
    "\r\n",
    "We also discovered how to derive instances of th`e Mergeab`le typeclass for our custom data types, enabling seamless integration with Grisette's features. By deriving instances usin`g Gener`ic an`d DerivingV`ia, we can quickly make our types compatible with Grisette without manually writing the instances.\r\n",
    "\r\n",
    "Furthermore, we extended our expression equivalence verifier to build a simple rewriting rule synthesizer. We introduced the concept of program sketches and holes, and demonstrated how to use CounterExample-Guided Inductive Synthesis (CEGIS) provided by Grisette to search for a program that satisfies a given specification.\r\n",
    "\r\n",
    "However, there are still some areas where the code can be improved. For example, we had to introduc`e the Ba`dValue constructor to handle ill-typed expressions, which adds boilerplate to our code. Additionally, constructing sketches can be verbose and difficult to reuse.\r\n",
    "\r\n",
    "In future tutorials, we will explore more advanced features of Grisette that can help us address these issues and simplify our code. We will learn about constructs that can reduce boilerplate and make our code more concise and reusable.\r\n",
    "\r\n",
    "By mastering the concepts introduced in this tutorial and leveraging the power of Grisette, you will be well-equipped to tackle complex problems involving symbolic execution, program synthesis, and verification."
   ]
  }
 ],
 "metadata": {
  "kernelspec": {
   "display_name": "Haskell",
   "language": "haskell",
   "name": "haskell"
  },
  "language_info": {
   "codemirror_mode": "ihaskell",
   "file_extension": ".hs",
   "mimetype": "text/x-haskell",
   "name": "haskell",
   "pygments_lexer": "Haskell",
   "version": "9.6.3"
  }
 },
 "nbformat": 4,
 "nbformat_minor": 5
}
